{
 "cells": [
  {
   "cell_type": "markdown",
   "metadata": {
    "id": "kv5WXIe39IGb"
   },
   "source": [
    "# Mini Proyecto 1\n",
    "\n",
    "## Aprendizaje Automático Intermedio e Ingeniería de Características\n",
    "\n",
    "### Enero 2023\n",
    "\n",
    "**Emilio Parrado Hernández, Vanessa Gómez Verdejo, Pablo Martínez Olmos**\n",
    "\n",
    "Departamento de Teoría de la Señal y Comunicaciones\n",
    "\n",
    "**Universidad Carlos III de Madrid**\n",
    "\n",
    "<img src='http://www.tsc.uc3m.es/~emipar/BBVA/INTRO/img/logo_uc3m_foot.jpg' width=400 />"
   ]
  },
  {
   "cell_type": "markdown",
   "metadata": {},
   "source": [
    "### Nombre integrantes:  \n",
    "### - Henrry Avila Amado\n",
    "### - Oscar Dueñas Vargas\n",
    "### - Yajaira Huerta Espinoza"
   ]
  },
  {
   "cell_type": "markdown",
   "metadata": {
    "id": "i9r2lN7K9IGe"
   },
   "source": [
    "# Carga de datos y comprensión de las variables"
   ]
  },
  {
   "cell_type": "code",
   "execution_count": 2,
   "metadata": {
    "id": "jptGrEW09IGe"
   },
   "outputs": [],
   "source": [
    "data_sheet = 'https://archive.ics.uci.edu/ml/machine-learning-databases/00350/default%20of%20credit%20card%20clients.xls'\n",
    "import pandas as pd\n",
    "df = pd.read_excel(data_sheet,\n",
    "                  header=1,\n",
    "                skiprows=0,\n",
    "                  index_col=0)"
   ]
  },
  {
   "cell_type": "code",
   "execution_count": 3,
   "metadata": {
    "colab": {
     "base_uri": "https://localhost:8080/",
     "height": 0
    },
    "id": "5_pozoF39IGf",
    "outputId": "f91f7569-26a3-4c6c-fbb0-64ffb5567c8c"
   },
   "outputs": [
    {
     "data": {
      "text/html": [
       "<div>\n",
       "<style scoped>\n",
       "    .dataframe tbody tr th:only-of-type {\n",
       "        vertical-align: middle;\n",
       "    }\n",
       "\n",
       "    .dataframe tbody tr th {\n",
       "        vertical-align: top;\n",
       "    }\n",
       "\n",
       "    .dataframe thead th {\n",
       "        text-align: right;\n",
       "    }\n",
       "</style>\n",
       "<table border=\"1\" class=\"dataframe\">\n",
       "  <thead>\n",
       "    <tr style=\"text-align: right;\">\n",
       "      <th></th>\n",
       "      <th>LIMIT_BAL</th>\n",
       "      <th>SEX</th>\n",
       "      <th>EDUCATION</th>\n",
       "      <th>MARRIAGE</th>\n",
       "      <th>AGE</th>\n",
       "      <th>PAY_0</th>\n",
       "      <th>PAY_2</th>\n",
       "      <th>PAY_3</th>\n",
       "      <th>PAY_4</th>\n",
       "      <th>PAY_5</th>\n",
       "      <th>...</th>\n",
       "      <th>BILL_AMT4</th>\n",
       "      <th>BILL_AMT5</th>\n",
       "      <th>BILL_AMT6</th>\n",
       "      <th>PAY_AMT1</th>\n",
       "      <th>PAY_AMT2</th>\n",
       "      <th>PAY_AMT3</th>\n",
       "      <th>PAY_AMT4</th>\n",
       "      <th>PAY_AMT5</th>\n",
       "      <th>PAY_AMT6</th>\n",
       "      <th>default payment next month</th>\n",
       "    </tr>\n",
       "    <tr>\n",
       "      <th>ID</th>\n",
       "      <th></th>\n",
       "      <th></th>\n",
       "      <th></th>\n",
       "      <th></th>\n",
       "      <th></th>\n",
       "      <th></th>\n",
       "      <th></th>\n",
       "      <th></th>\n",
       "      <th></th>\n",
       "      <th></th>\n",
       "      <th></th>\n",
       "      <th></th>\n",
       "      <th></th>\n",
       "      <th></th>\n",
       "      <th></th>\n",
       "      <th></th>\n",
       "      <th></th>\n",
       "      <th></th>\n",
       "      <th></th>\n",
       "      <th></th>\n",
       "      <th></th>\n",
       "    </tr>\n",
       "  </thead>\n",
       "  <tbody>\n",
       "    <tr>\n",
       "      <th>1</th>\n",
       "      <td>20000</td>\n",
       "      <td>2</td>\n",
       "      <td>2</td>\n",
       "      <td>1</td>\n",
       "      <td>24</td>\n",
       "      <td>2</td>\n",
       "      <td>2</td>\n",
       "      <td>-1</td>\n",
       "      <td>-1</td>\n",
       "      <td>-2</td>\n",
       "      <td>...</td>\n",
       "      <td>0</td>\n",
       "      <td>0</td>\n",
       "      <td>0</td>\n",
       "      <td>0</td>\n",
       "      <td>689</td>\n",
       "      <td>0</td>\n",
       "      <td>0</td>\n",
       "      <td>0</td>\n",
       "      <td>0</td>\n",
       "      <td>1</td>\n",
       "    </tr>\n",
       "    <tr>\n",
       "      <th>2</th>\n",
       "      <td>120000</td>\n",
       "      <td>2</td>\n",
       "      <td>2</td>\n",
       "      <td>2</td>\n",
       "      <td>26</td>\n",
       "      <td>-1</td>\n",
       "      <td>2</td>\n",
       "      <td>0</td>\n",
       "      <td>0</td>\n",
       "      <td>0</td>\n",
       "      <td>...</td>\n",
       "      <td>3272</td>\n",
       "      <td>3455</td>\n",
       "      <td>3261</td>\n",
       "      <td>0</td>\n",
       "      <td>1000</td>\n",
       "      <td>1000</td>\n",
       "      <td>1000</td>\n",
       "      <td>0</td>\n",
       "      <td>2000</td>\n",
       "      <td>1</td>\n",
       "    </tr>\n",
       "    <tr>\n",
       "      <th>3</th>\n",
       "      <td>90000</td>\n",
       "      <td>2</td>\n",
       "      <td>2</td>\n",
       "      <td>2</td>\n",
       "      <td>34</td>\n",
       "      <td>0</td>\n",
       "      <td>0</td>\n",
       "      <td>0</td>\n",
       "      <td>0</td>\n",
       "      <td>0</td>\n",
       "      <td>...</td>\n",
       "      <td>14331</td>\n",
       "      <td>14948</td>\n",
       "      <td>15549</td>\n",
       "      <td>1518</td>\n",
       "      <td>1500</td>\n",
       "      <td>1000</td>\n",
       "      <td>1000</td>\n",
       "      <td>1000</td>\n",
       "      <td>5000</td>\n",
       "      <td>0</td>\n",
       "    </tr>\n",
       "    <tr>\n",
       "      <th>4</th>\n",
       "      <td>50000</td>\n",
       "      <td>2</td>\n",
       "      <td>2</td>\n",
       "      <td>1</td>\n",
       "      <td>37</td>\n",
       "      <td>0</td>\n",
       "      <td>0</td>\n",
       "      <td>0</td>\n",
       "      <td>0</td>\n",
       "      <td>0</td>\n",
       "      <td>...</td>\n",
       "      <td>28314</td>\n",
       "      <td>28959</td>\n",
       "      <td>29547</td>\n",
       "      <td>2000</td>\n",
       "      <td>2019</td>\n",
       "      <td>1200</td>\n",
       "      <td>1100</td>\n",
       "      <td>1069</td>\n",
       "      <td>1000</td>\n",
       "      <td>0</td>\n",
       "    </tr>\n",
       "    <tr>\n",
       "      <th>5</th>\n",
       "      <td>50000</td>\n",
       "      <td>1</td>\n",
       "      <td>2</td>\n",
       "      <td>1</td>\n",
       "      <td>57</td>\n",
       "      <td>-1</td>\n",
       "      <td>0</td>\n",
       "      <td>-1</td>\n",
       "      <td>0</td>\n",
       "      <td>0</td>\n",
       "      <td>...</td>\n",
       "      <td>20940</td>\n",
       "      <td>19146</td>\n",
       "      <td>19131</td>\n",
       "      <td>2000</td>\n",
       "      <td>36681</td>\n",
       "      <td>10000</td>\n",
       "      <td>9000</td>\n",
       "      <td>689</td>\n",
       "      <td>679</td>\n",
       "      <td>0</td>\n",
       "    </tr>\n",
       "  </tbody>\n",
       "</table>\n",
       "<p>5 rows × 24 columns</p>\n",
       "</div>"
      ],
      "text/plain": [
       "    LIMIT_BAL  SEX  EDUCATION  MARRIAGE  AGE  PAY_0  PAY_2  PAY_3  PAY_4  \\\n",
       "ID                                                                         \n",
       "1       20000    2          2         1   24      2      2     -1     -1   \n",
       "2      120000    2          2         2   26     -1      2      0      0   \n",
       "3       90000    2          2         2   34      0      0      0      0   \n",
       "4       50000    2          2         1   37      0      0      0      0   \n",
       "5       50000    1          2         1   57     -1      0     -1      0   \n",
       "\n",
       "    PAY_5  ...  BILL_AMT4  BILL_AMT5  BILL_AMT6  PAY_AMT1  PAY_AMT2  PAY_AMT3  \\\n",
       "ID         ...                                                                  \n",
       "1      -2  ...          0          0          0         0       689         0   \n",
       "2       0  ...       3272       3455       3261         0      1000      1000   \n",
       "3       0  ...      14331      14948      15549      1518      1500      1000   \n",
       "4       0  ...      28314      28959      29547      2000      2019      1200   \n",
       "5       0  ...      20940      19146      19131      2000     36681     10000   \n",
       "\n",
       "    PAY_AMT4  PAY_AMT5  PAY_AMT6  default payment next month  \n",
       "ID                                                            \n",
       "1          0         0         0                           1  \n",
       "2       1000         0      2000                           1  \n",
       "3       1000      1000      5000                           0  \n",
       "4       1100      1069      1000                           0  \n",
       "5       9000       689       679                           0  \n",
       "\n",
       "[5 rows x 24 columns]"
      ]
     },
     "execution_count": 3,
     "metadata": {},
     "output_type": "execute_result"
    }
   ],
   "source": [
    "df.head()"
   ]
  },
  {
   "cell_type": "markdown",
   "metadata": {
    "id": "pZmNiHdO9IGf"
   },
   "source": [
    "## Descripción de las variables de entrada\n",
    "\n",
    "Esta es la descripción extraída de la web de la que se descargan los datos\n",
    "\n",
    "- This research employed a binary variable, default payment (Yes = 1, No = 0), as the response variable. \n",
    "- This study reviewed the literature and used the following 23 variables as explanatory variables:\n",
    "    - X1: Amount of the given credit (NT dollar): it includes both the individual consumer credit and his/her family (supplementary) credit.\n",
    "    - X2: Gender (1 = male; 2 = female).\n",
    "    - X3: Education (1 = graduate school; 2 = university; 3 = high school; 4 = others).\n",
    "    - X4: Marital status (1 = married; 2 = single; 3 = others).\n",
    "    - X5: Age (year).\n",
    "    - X6 - X11: History of past payment. We tracked the past monthly payment records (from April to September, 2005) as follows: X6 = the repayment status in September, 2005; X7 = the repayment status in August, 2005; . . .;X11 = the repayment status in April, 2005. The measurement scale for the repayment status is: -2=no consumption, -1=pay duly, 0=the use of revolving credit, 1=payment delay for one month, 2=payment delay for two months, … 8=payment delay for eight months, 9=payment delay for nine months and above\n",
    "    - X12-X17: Amount of bill statement (NT dollar). X12 = amount of bill statement in September, 2005; X13 = amount of bill statement in August, 2005; . . .; X17 = amount of bill statement in April, 2005.\n",
    "    - X18-X23: Amount of previous payment (NT dollar). X18 = amount paid in September, 2005; X19 = amount paid in August, 2005; . . .;X23 = amount paid in April, 2005.\n",
    "\n"
   ]
  },
  {
   "cell_type": "code",
   "execution_count": 4,
   "metadata": {
    "colab": {
     "base_uri": "https://localhost:8080/"
    },
    "id": "HzYwnwJS9IGg",
    "outputId": "2bd581a7-0f37-4950-e123-0a587df2be38"
   },
   "outputs": [
    {
     "data": {
      "text/plain": [
       "LIMIT_BAL                     120000\n",
       "SEX                                2\n",
       "EDUCATION                          2\n",
       "MARRIAGE                           2\n",
       "AGE                               23\n",
       "PAY_0                              0\n",
       "PAY_2                              0\n",
       "PAY_3                              0\n",
       "PAY_4                              0\n",
       "PAY_5                              0\n",
       "PAY_6                              0\n",
       "BILL_AMT1                     118063\n",
       "BILL_AMT2                     120851\n",
       "BILL_AMT3                     120013\n",
       "BILL_AMT4                      77539\n",
       "BILL_AMT5                      77333\n",
       "BILL_AMT6                      79113\n",
       "PAY_AMT1                        4700\n",
       "PAY_AMT2                        3538\n",
       "PAY_AMT3                        3000\n",
       "PAY_AMT4                        3000\n",
       "PAY_AMT5                        3000\n",
       "PAY_AMT6                        5000\n",
       "default payment next month         0\n",
       "Name: 1568, dtype: int64"
      ]
     },
     "execution_count": 4,
     "metadata": {},
     "output_type": "execute_result"
    }
   ],
   "source": [
    "# imprimir un registro para ver en detalle cada campo\n",
    "df.loc[1568]"
   ]
  },
  {
   "cell_type": "markdown",
   "metadata": {
    "id": "ZIASjALL9IGg"
   },
   "source": [
    "## Limpieza de variables\n",
    "\n",
    "Algunas de las variables categóricas presentan valores que no aparecen en la descripción\n",
    "\n",
    "### Education y Marriage"
   ]
  },
  {
   "cell_type": "code",
   "execution_count": 5,
   "metadata": {
    "colab": {
     "base_uri": "https://localhost:8080/"
    },
    "id": "T-X0PpwC9IGh",
    "outputId": "9ce03c4f-858a-487f-9a55-102917c1664b"
   },
   "outputs": [
    {
     "name": "stdout",
     "output_type": "stream",
     "text": [
      "EDUCATION\n",
      "2    14030\n",
      "1    10585\n",
      "3     4917\n",
      "5      280\n",
      "4      123\n",
      "6       51\n",
      "0       14\n",
      "Name: EDUCATION, dtype: int64\n",
      "\n",
      "MARRIAGE\n",
      "2    15964\n",
      "1    13659\n",
      "3      323\n",
      "0       54\n",
      "Name: MARRIAGE, dtype: int64\n",
      "\n"
     ]
    }
   ],
   "source": [
    "columns_cat = ['EDUCATION','MARRIAGE']\n",
    "for cc in columns_cat:\n",
    "    print(cc)\n",
    "    print(df[cc].value_counts())\n",
    "    print(\"\")"
   ]
  },
  {
   "cell_type": "markdown",
   "metadata": {
    "id": "VgJQjgk99IGi"
   },
   "source": [
    "Vemos que aparecen valores que no están en la descripción, vamos a *limpiar* estas variables agrupando del siguiente modo:\n",
    "- `EDUCATION`: pasar los valores $\\{0, 5, 6\\}$ a $4$ (`others`)\n",
    "- `MARRIAGE`: pasar el valor $0$ a $3$ (`others`)"
   ]
  },
  {
   "cell_type": "code",
   "execution_count": 6,
   "metadata": {
    "colab": {
     "base_uri": "https://localhost:8080/"
    },
    "id": "5m59RAii9IGi",
    "outputId": "048063b2-7073-4236-ad23-24c68c513801"
   },
   "outputs": [
    {
     "name": "stdout",
     "output_type": "stream",
     "text": [
      "EDUCATION\n",
      "2    14030\n",
      "1    10585\n",
      "3     4917\n",
      "4      468\n",
      "Name: EDUCATION, dtype: int64\n",
      "\n",
      "MARRIAGE\n",
      "2    15964\n",
      "1    13659\n",
      "3      377\n",
      "Name: MARRIAGE, dtype: int64\n",
      "\n"
     ]
    }
   ],
   "source": [
    "df.loc[:,'EDUCATION'] = df.loc[:,'EDUCATION'].apply(lambda x: 4 if x==0 else x)\n",
    "df.loc[:,'EDUCATION'] = df.loc[:,'EDUCATION'].apply(lambda x: 4 if x>=4 else x)\n",
    "df.loc[:,'MARRIAGE'] = df.loc[:,'MARRIAGE'].apply(lambda x: 3 if x==0 else x)\n",
    "for cc in columns_cat:\n",
    "    print(cc)\n",
    "    print(df[cc].value_counts())\n",
    "    print(\"\")"
   ]
  },
  {
   "cell_type": "markdown",
   "metadata": {
    "id": "yzxVrIen9IGi"
   },
   "source": [
    "### Sacar discretas de PAY_0 a PAY_6 (3%)\n",
    "\n",
    "Las variables `PAY_0` a `PAY_6` tienen una interpretación mixta entre categórica y numérica. Los valores $\\{-2, -1 ,0\\}$ pueden considerarse categóricos, mientras que los valores positivos pueden considerarse numéricos.\n",
    "\n",
    "Vamos a codificarlas de modo categórico con las siguientes categorías:\n",
    "- `PAY_X` $=-2$: no consumption\n",
    "- `PAY_X` $=-1$: pay duly  \n",
    "- `PAY_X` $=0$:  use of revolving credit\n",
    "- `PAY_X` $ >0$: payment delay\n",
    "\n",
    "Básicamente tenéis que escribir código que:\n",
    " - transforme todos los valores positivos en un solo valor, por ejemplo $1$\n",
    " - añanda columnas `PAY_X_dis` al dataframe con esos valores discretos"
   ]
  },
  {
   "cell_type": "code",
   "execution_count": 7,
   "metadata": {
    "id": "McQZr64E9IGj"
   },
   "outputs": [],
   "source": [
    "#############\n",
    "# YOUR CODE #\n",
    "#############\n",
    "import numpy as np\n",
    "for i in np.delete(np.arange(7),1): \n",
    "        df.loc[:,'PAY_'+str(i)+'_dis'] = df.loc[:,'PAY_'+str(i)].apply(lambda x: 1 if x>0 else x)\n",
    "    \n",
    "\n",
    "#######\n",
    "# END #\n",
    "#######    "
   ]
  },
  {
   "cell_type": "code",
   "execution_count": 8,
   "metadata": {
    "colab": {
     "base_uri": "https://localhost:8080/",
     "height": 0
    },
    "id": "T7rbnX72-Z_a",
    "outputId": "e20095eb-535e-4893-fde4-273689ac68d2"
   },
   "outputs": [
    {
     "data": {
      "text/html": [
       "<div>\n",
       "<style scoped>\n",
       "    .dataframe tbody tr th:only-of-type {\n",
       "        vertical-align: middle;\n",
       "    }\n",
       "\n",
       "    .dataframe tbody tr th {\n",
       "        vertical-align: top;\n",
       "    }\n",
       "\n",
       "    .dataframe thead th {\n",
       "        text-align: right;\n",
       "    }\n",
       "</style>\n",
       "<table border=\"1\" class=\"dataframe\">\n",
       "  <thead>\n",
       "    <tr style=\"text-align: right;\">\n",
       "      <th></th>\n",
       "      <th>LIMIT_BAL</th>\n",
       "      <th>SEX</th>\n",
       "      <th>EDUCATION</th>\n",
       "      <th>MARRIAGE</th>\n",
       "      <th>AGE</th>\n",
       "      <th>PAY_0</th>\n",
       "      <th>PAY_2</th>\n",
       "      <th>PAY_3</th>\n",
       "      <th>PAY_4</th>\n",
       "      <th>PAY_5</th>\n",
       "      <th>...</th>\n",
       "      <th>PAY_AMT4</th>\n",
       "      <th>PAY_AMT5</th>\n",
       "      <th>PAY_AMT6</th>\n",
       "      <th>default payment next month</th>\n",
       "      <th>PAY_0_dis</th>\n",
       "      <th>PAY_2_dis</th>\n",
       "      <th>PAY_3_dis</th>\n",
       "      <th>PAY_4_dis</th>\n",
       "      <th>PAY_5_dis</th>\n",
       "      <th>PAY_6_dis</th>\n",
       "    </tr>\n",
       "    <tr>\n",
       "      <th>ID</th>\n",
       "      <th></th>\n",
       "      <th></th>\n",
       "      <th></th>\n",
       "      <th></th>\n",
       "      <th></th>\n",
       "      <th></th>\n",
       "      <th></th>\n",
       "      <th></th>\n",
       "      <th></th>\n",
       "      <th></th>\n",
       "      <th></th>\n",
       "      <th></th>\n",
       "      <th></th>\n",
       "      <th></th>\n",
       "      <th></th>\n",
       "      <th></th>\n",
       "      <th></th>\n",
       "      <th></th>\n",
       "      <th></th>\n",
       "      <th></th>\n",
       "      <th></th>\n",
       "    </tr>\n",
       "  </thead>\n",
       "  <tbody>\n",
       "    <tr>\n",
       "      <th>1</th>\n",
       "      <td>20000</td>\n",
       "      <td>2</td>\n",
       "      <td>2</td>\n",
       "      <td>1</td>\n",
       "      <td>24</td>\n",
       "      <td>2</td>\n",
       "      <td>2</td>\n",
       "      <td>-1</td>\n",
       "      <td>-1</td>\n",
       "      <td>-2</td>\n",
       "      <td>...</td>\n",
       "      <td>0</td>\n",
       "      <td>0</td>\n",
       "      <td>0</td>\n",
       "      <td>1</td>\n",
       "      <td>1</td>\n",
       "      <td>1</td>\n",
       "      <td>-1</td>\n",
       "      <td>-1</td>\n",
       "      <td>-2</td>\n",
       "      <td>-2</td>\n",
       "    </tr>\n",
       "    <tr>\n",
       "      <th>2</th>\n",
       "      <td>120000</td>\n",
       "      <td>2</td>\n",
       "      <td>2</td>\n",
       "      <td>2</td>\n",
       "      <td>26</td>\n",
       "      <td>-1</td>\n",
       "      <td>2</td>\n",
       "      <td>0</td>\n",
       "      <td>0</td>\n",
       "      <td>0</td>\n",
       "      <td>...</td>\n",
       "      <td>1000</td>\n",
       "      <td>0</td>\n",
       "      <td>2000</td>\n",
       "      <td>1</td>\n",
       "      <td>-1</td>\n",
       "      <td>1</td>\n",
       "      <td>0</td>\n",
       "      <td>0</td>\n",
       "      <td>0</td>\n",
       "      <td>1</td>\n",
       "    </tr>\n",
       "    <tr>\n",
       "      <th>3</th>\n",
       "      <td>90000</td>\n",
       "      <td>2</td>\n",
       "      <td>2</td>\n",
       "      <td>2</td>\n",
       "      <td>34</td>\n",
       "      <td>0</td>\n",
       "      <td>0</td>\n",
       "      <td>0</td>\n",
       "      <td>0</td>\n",
       "      <td>0</td>\n",
       "      <td>...</td>\n",
       "      <td>1000</td>\n",
       "      <td>1000</td>\n",
       "      <td>5000</td>\n",
       "      <td>0</td>\n",
       "      <td>0</td>\n",
       "      <td>0</td>\n",
       "      <td>0</td>\n",
       "      <td>0</td>\n",
       "      <td>0</td>\n",
       "      <td>0</td>\n",
       "    </tr>\n",
       "    <tr>\n",
       "      <th>4</th>\n",
       "      <td>50000</td>\n",
       "      <td>2</td>\n",
       "      <td>2</td>\n",
       "      <td>1</td>\n",
       "      <td>37</td>\n",
       "      <td>0</td>\n",
       "      <td>0</td>\n",
       "      <td>0</td>\n",
       "      <td>0</td>\n",
       "      <td>0</td>\n",
       "      <td>...</td>\n",
       "      <td>1100</td>\n",
       "      <td>1069</td>\n",
       "      <td>1000</td>\n",
       "      <td>0</td>\n",
       "      <td>0</td>\n",
       "      <td>0</td>\n",
       "      <td>0</td>\n",
       "      <td>0</td>\n",
       "      <td>0</td>\n",
       "      <td>0</td>\n",
       "    </tr>\n",
       "    <tr>\n",
       "      <th>5</th>\n",
       "      <td>50000</td>\n",
       "      <td>1</td>\n",
       "      <td>2</td>\n",
       "      <td>1</td>\n",
       "      <td>57</td>\n",
       "      <td>-1</td>\n",
       "      <td>0</td>\n",
       "      <td>-1</td>\n",
       "      <td>0</td>\n",
       "      <td>0</td>\n",
       "      <td>...</td>\n",
       "      <td>9000</td>\n",
       "      <td>689</td>\n",
       "      <td>679</td>\n",
       "      <td>0</td>\n",
       "      <td>-1</td>\n",
       "      <td>0</td>\n",
       "      <td>-1</td>\n",
       "      <td>0</td>\n",
       "      <td>0</td>\n",
       "      <td>0</td>\n",
       "    </tr>\n",
       "    <tr>\n",
       "      <th>...</th>\n",
       "      <td>...</td>\n",
       "      <td>...</td>\n",
       "      <td>...</td>\n",
       "      <td>...</td>\n",
       "      <td>...</td>\n",
       "      <td>...</td>\n",
       "      <td>...</td>\n",
       "      <td>...</td>\n",
       "      <td>...</td>\n",
       "      <td>...</td>\n",
       "      <td>...</td>\n",
       "      <td>...</td>\n",
       "      <td>...</td>\n",
       "      <td>...</td>\n",
       "      <td>...</td>\n",
       "      <td>...</td>\n",
       "      <td>...</td>\n",
       "      <td>...</td>\n",
       "      <td>...</td>\n",
       "      <td>...</td>\n",
       "      <td>...</td>\n",
       "    </tr>\n",
       "    <tr>\n",
       "      <th>29996</th>\n",
       "      <td>220000</td>\n",
       "      <td>1</td>\n",
       "      <td>3</td>\n",
       "      <td>1</td>\n",
       "      <td>39</td>\n",
       "      <td>0</td>\n",
       "      <td>0</td>\n",
       "      <td>0</td>\n",
       "      <td>0</td>\n",
       "      <td>0</td>\n",
       "      <td>...</td>\n",
       "      <td>3047</td>\n",
       "      <td>5000</td>\n",
       "      <td>1000</td>\n",
       "      <td>0</td>\n",
       "      <td>0</td>\n",
       "      <td>0</td>\n",
       "      <td>0</td>\n",
       "      <td>0</td>\n",
       "      <td>0</td>\n",
       "      <td>0</td>\n",
       "    </tr>\n",
       "    <tr>\n",
       "      <th>29997</th>\n",
       "      <td>150000</td>\n",
       "      <td>1</td>\n",
       "      <td>3</td>\n",
       "      <td>2</td>\n",
       "      <td>43</td>\n",
       "      <td>-1</td>\n",
       "      <td>-1</td>\n",
       "      <td>-1</td>\n",
       "      <td>-1</td>\n",
       "      <td>0</td>\n",
       "      <td>...</td>\n",
       "      <td>129</td>\n",
       "      <td>0</td>\n",
       "      <td>0</td>\n",
       "      <td>0</td>\n",
       "      <td>-1</td>\n",
       "      <td>-1</td>\n",
       "      <td>-1</td>\n",
       "      <td>-1</td>\n",
       "      <td>0</td>\n",
       "      <td>0</td>\n",
       "    </tr>\n",
       "    <tr>\n",
       "      <th>29998</th>\n",
       "      <td>30000</td>\n",
       "      <td>1</td>\n",
       "      <td>2</td>\n",
       "      <td>2</td>\n",
       "      <td>37</td>\n",
       "      <td>4</td>\n",
       "      <td>3</td>\n",
       "      <td>2</td>\n",
       "      <td>-1</td>\n",
       "      <td>0</td>\n",
       "      <td>...</td>\n",
       "      <td>4200</td>\n",
       "      <td>2000</td>\n",
       "      <td>3100</td>\n",
       "      <td>1</td>\n",
       "      <td>1</td>\n",
       "      <td>1</td>\n",
       "      <td>1</td>\n",
       "      <td>-1</td>\n",
       "      <td>0</td>\n",
       "      <td>0</td>\n",
       "    </tr>\n",
       "    <tr>\n",
       "      <th>29999</th>\n",
       "      <td>80000</td>\n",
       "      <td>1</td>\n",
       "      <td>3</td>\n",
       "      <td>1</td>\n",
       "      <td>41</td>\n",
       "      <td>1</td>\n",
       "      <td>-1</td>\n",
       "      <td>0</td>\n",
       "      <td>0</td>\n",
       "      <td>0</td>\n",
       "      <td>...</td>\n",
       "      <td>1926</td>\n",
       "      <td>52964</td>\n",
       "      <td>1804</td>\n",
       "      <td>1</td>\n",
       "      <td>1</td>\n",
       "      <td>-1</td>\n",
       "      <td>0</td>\n",
       "      <td>0</td>\n",
       "      <td>0</td>\n",
       "      <td>-1</td>\n",
       "    </tr>\n",
       "    <tr>\n",
       "      <th>30000</th>\n",
       "      <td>50000</td>\n",
       "      <td>1</td>\n",
       "      <td>2</td>\n",
       "      <td>1</td>\n",
       "      <td>46</td>\n",
       "      <td>0</td>\n",
       "      <td>0</td>\n",
       "      <td>0</td>\n",
       "      <td>0</td>\n",
       "      <td>0</td>\n",
       "      <td>...</td>\n",
       "      <td>1000</td>\n",
       "      <td>1000</td>\n",
       "      <td>1000</td>\n",
       "      <td>1</td>\n",
       "      <td>0</td>\n",
       "      <td>0</td>\n",
       "      <td>0</td>\n",
       "      <td>0</td>\n",
       "      <td>0</td>\n",
       "      <td>0</td>\n",
       "    </tr>\n",
       "  </tbody>\n",
       "</table>\n",
       "<p>30000 rows × 30 columns</p>\n",
       "</div>"
      ],
      "text/plain": [
       "       LIMIT_BAL  SEX  EDUCATION  MARRIAGE  AGE  PAY_0  PAY_2  PAY_3  PAY_4  \\\n",
       "ID                                                                            \n",
       "1          20000    2          2         1   24      2      2     -1     -1   \n",
       "2         120000    2          2         2   26     -1      2      0      0   \n",
       "3          90000    2          2         2   34      0      0      0      0   \n",
       "4          50000    2          2         1   37      0      0      0      0   \n",
       "5          50000    1          2         1   57     -1      0     -1      0   \n",
       "...          ...  ...        ...       ...  ...    ...    ...    ...    ...   \n",
       "29996     220000    1          3         1   39      0      0      0      0   \n",
       "29997     150000    1          3         2   43     -1     -1     -1     -1   \n",
       "29998      30000    1          2         2   37      4      3      2     -1   \n",
       "29999      80000    1          3         1   41      1     -1      0      0   \n",
       "30000      50000    1          2         1   46      0      0      0      0   \n",
       "\n",
       "       PAY_5  ...  PAY_AMT4  PAY_AMT5  PAY_AMT6  default payment next month  \\\n",
       "ID            ...                                                             \n",
       "1         -2  ...         0         0         0                           1   \n",
       "2          0  ...      1000         0      2000                           1   \n",
       "3          0  ...      1000      1000      5000                           0   \n",
       "4          0  ...      1100      1069      1000                           0   \n",
       "5          0  ...      9000       689       679                           0   \n",
       "...      ...  ...       ...       ...       ...                         ...   \n",
       "29996      0  ...      3047      5000      1000                           0   \n",
       "29997      0  ...       129         0         0                           0   \n",
       "29998      0  ...      4200      2000      3100                           1   \n",
       "29999      0  ...      1926     52964      1804                           1   \n",
       "30000      0  ...      1000      1000      1000                           1   \n",
       "\n",
       "       PAY_0_dis  PAY_2_dis  PAY_3_dis  PAY_4_dis  PAY_5_dis  PAY_6_dis  \n",
       "ID                                                                       \n",
       "1              1          1         -1         -1         -2         -2  \n",
       "2             -1          1          0          0          0          1  \n",
       "3              0          0          0          0          0          0  \n",
       "4              0          0          0          0          0          0  \n",
       "5             -1          0         -1          0          0          0  \n",
       "...          ...        ...        ...        ...        ...        ...  \n",
       "29996          0          0          0          0          0          0  \n",
       "29997         -1         -1         -1         -1          0          0  \n",
       "29998          1          1          1         -1          0          0  \n",
       "29999          1         -1          0          0          0         -1  \n",
       "30000          0          0          0          0          0          0  \n",
       "\n",
       "[30000 rows x 30 columns]"
      ]
     },
     "execution_count": 8,
     "metadata": {},
     "output_type": "execute_result"
    }
   ],
   "source": [
    "df"
   ]
  },
  {
   "cell_type": "markdown",
   "metadata": {
    "id": "rb_WDl5d9IGj"
   },
   "source": [
    "## Partición en entrenamiento y test (2%)\n",
    "\n",
    "Divida los datos aleatoriamente en dos dataframes con la siguiente distribución de tamaños:\n",
    "- `train_df`: Entrenamiento 20K\n",
    "- `test_df`: Test 10K"
   ]
  },
  {
   "cell_type": "code",
   "execution_count": 9,
   "metadata": {
    "id": "eh2ieysX9IGj"
   },
   "outputs": [],
   "source": [
    "#############\n",
    "# YOUR CODE #\n",
    "#############\n",
    "from sklearn.model_selection import train_test_split\n",
    "\n",
    "train_df, test_df = train_test_split(df, test_size=10000, random_state=42)\n",
    "#######\n",
    "# END #\n",
    "####### "
   ]
  },
  {
   "cell_type": "code",
   "execution_count": 10,
   "metadata": {
    "colab": {
     "base_uri": "https://localhost:8080/"
    },
    "id": "3vlfpUOV9IGj",
    "outputId": "3f3613c6-a714-4ff5-a885-bbfb5a4f794f"
   },
   "outputs": [
    {
     "name": "stdout",
     "output_type": "stream",
     "text": [
      "Train 20000 ejemplos\n",
      "Test 10000 ejemplos\n"
     ]
    }
   ],
   "source": [
    "print(\"Train {0:d} ejemplos\".format(len(train_df)))\n",
    "print(\"Test {0:d} ejemplos\".format(len(test_df)))"
   ]
  },
  {
   "cell_type": "markdown",
   "metadata": {
    "id": "Ep_5G4Uj9IGk"
   },
   "source": [
    "## Clasificación trivial (5%)\n",
    "\n",
    "El primer paso es establecer el clasificador *baseline* contra el que vamos a comparar los resultados de los modelos que vayamos entrenando a lo largo del *notebook*.\n",
    "\n",
    "Este resultado depende de si las clases están o no desbalanceadas. **Analizad el desbalanceo en el dataframe** `train_df` y elegid el resultado del clasificador *baseline*."
   ]
  },
  {
   "cell_type": "code",
   "execution_count": 11,
   "metadata": {
    "colab": {
     "base_uri": "https://localhost:8080/"
    },
    "id": "moywUfYb9IGk",
    "outputId": "c55044a5-c0ac-4f60-b7cc-4b83a144697f"
   },
   "outputs": [
    {
     "name": "stdout",
     "output_type": "stream",
     "text": [
      "Baseline 0 : 0.71 \n"
     ]
    }
   ],
   "source": [
    "#############\n",
    "# YOUR CODE #\n",
    "#############\n",
    "perc_target = train_df['default payment next month'].sum() / train_df['default payment next month'].value_counts()\n",
    "print( \"Baseline 0 : {0:3.2f} \".format(1-perc_target[0] ))\n",
    "# Resultado del clasificador baseline = 0 \n",
    "#######\n",
    "# END #\n",
    "####### "
   ]
  },
  {
   "cell_type": "markdown",
   "metadata": {
    "id": "22D5Qr0E9IGk"
   },
   "source": [
    "# 1. Regresión Logística con variables numéricas\n",
    "\n",
    "El primer modelo que vamos a construir es un clasificador basado en [**regresión logística**](https://scikit-learn.org/stable/modules/generated/sklearn.linear_model.LogisticRegression.html) sólo empleando como entradas las variables numéricas. \n",
    "\n",
    "## 1.1 Identificar variables numéricas (5%)\n",
    "Construid una lista de python llamada `num_var` con las variables numéricas (las que no son categóricas)"
   ]
  },
  {
   "cell_type": "code",
   "execution_count": 12,
   "metadata": {
    "colab": {
     "base_uri": "https://localhost:8080/"
    },
    "id": "kCHANKytBQen",
    "outputId": "7ef9074c-da03-4838-c744-b55c67598d16"
   },
   "outputs": [
    {
     "data": {
      "text/plain": [
       "['LIMIT_BAL',\n",
       " 'AGE',\n",
       " 'PAY_0',\n",
       " 'PAY_2',\n",
       " 'PAY_3',\n",
       " 'PAY_4',\n",
       " 'PAY_5',\n",
       " 'PAY_6',\n",
       " 'BILL_AMT1',\n",
       " 'BILL_AMT2',\n",
       " 'BILL_AMT3',\n",
       " 'BILL_AMT4',\n",
       " 'BILL_AMT5',\n",
       " 'BILL_AMT6',\n",
       " 'PAY_AMT1',\n",
       " 'PAY_AMT2',\n",
       " 'PAY_AMT3',\n",
       " 'PAY_AMT4',\n",
       " 'PAY_AMT5',\n",
       " 'PAY_AMT6']"
      ]
     },
     "execution_count": 12,
     "metadata": {},
     "output_type": "execute_result"
    }
   ],
   "source": [
    "cat = ['SEX','EDUCATION','MARRIAGE','default payment next month','PAY_0_dis','PAY_2_dis','PAY_3_dis','PAY_4_dis','PAY_5_dis','PAY_6_dis']\n",
    "\n",
    "num_var = [var for var in df.columns  if var not in cat]\n",
    "num_var"
   ]
  },
  {
   "cell_type": "code",
   "execution_count": 13,
   "metadata": {
    "colab": {
     "base_uri": "https://localhost:8080/"
    },
    "id": "pe3V8ouN9IGk",
    "outputId": "be4b3a9c-a122-4e00-84b1-60b9329990b8"
   },
   "outputs": [
    {
     "name": "stdout",
     "output_type": "stream",
     "text": [
      "Variables numéricas\n",
      "['LIMIT_BAL', 'AGE', 'PAY_0', 'PAY_2', 'PAY_3', 'PAY_4', 'PAY_5', 'PAY_6', 'BILL_AMT1', 'BILL_AMT2', 'BILL_AMT3', 'BILL_AMT4', 'BILL_AMT5', 'BILL_AMT6', 'PAY_AMT1', 'PAY_AMT2', 'PAY_AMT3', 'PAY_AMT4', 'PAY_AMT5', 'PAY_AMT6']\n"
     ]
    }
   ],
   "source": [
    "print(\"Variables numéricas\")\n",
    "print(num_var)"
   ]
  },
  {
   "cell_type": "markdown",
   "metadata": {
    "id": "WmMMOmVp9IGk"
   },
   "source": [
    "## 1.2 Construir el modelo de regresión logística solo con las variables numéricas (10%)\n",
    "\n",
    "- Usad `Pipeline` y `GridSearchCV` para introducir un escalado como preprocesado, si lo veis oportuno.\n",
    "- Usad los siguientes nombres para los numpy arrays con los que llaméis los métodos (`fit`, `sore`, `predict`,etc) del regresor logístico:\n",
    "    - `X_train`\n",
    "    - `Y_train`\n",
    "    - `X_test`\n",
    "    - `Y_test`\n",
    "- Comparad el resultado del modelo en el conjunto de test con la solución trivial\n"
   ]
  },
  {
   "cell_type": "code",
   "execution_count": 14,
   "metadata": {
    "id": "93P6--j_CjZj"
   },
   "outputs": [],
   "source": [
    "from sklearn.linear_model import LogisticRegression\n",
    "from sklearn.preprocessing import StandardScaler ,MinMaxScaler\n",
    "from sklearn.pipeline import Pipeline \n",
    "from sklearn.model_selection import GridSearchCV"
   ]
  },
  {
   "cell_type": "code",
   "execution_count": 15,
   "metadata": {
    "id": "Qs5FNHz4Cjcq"
   },
   "outputs": [],
   "source": [
    "lr_pipe = Pipeline([('scalers',MinMaxScaler()),\n",
    "                   ('clfs', LogisticRegression(solver='liblinear'))])\n",
    "\n",
    "param_pipes = {'scalers' : [MinMaxScaler(), StandardScaler(),'passthrough']}\n",
    "grid_lr_pipe = GridSearchCV(lr_pipe, param_grid = param_pipes, cv = 5)"
   ]
  },
  {
   "cell_type": "code",
   "execution_count": 16,
   "metadata": {
    "id": "8ec80ZmnCjfh"
   },
   "outputs": [],
   "source": [
    "x_train= train_df[num_var].dropna().values\n",
    "x_test= test_df[num_var].dropna().values\n",
    "y_train= train_df['default payment next month'].dropna().values\n",
    "y_test= test_df['default payment next month'].dropna().values"
   ]
  },
  {
   "cell_type": "code",
   "execution_count": 17,
   "metadata": {
    "colab": {
     "base_uri": "https://localhost:8080/"
    },
    "id": "cRqBItOO9IGk",
    "outputId": "e5459b49-a909-4a42-c94b-911174d24fe5"
   },
   "outputs": [
    {
     "name": "stdout",
     "output_type": "stream",
     "text": [
      "Score with the training data R^2=0.8107\n",
      "Score with the test data R^2=0.8103\n",
      "Hyperparameters choosen with cross-validation\n",
      "{'scalers': StandardScaler()}\n"
     ]
    }
   ],
   "source": [
    "lr_model = grid_lr_pipe.fit(x_train, y_train)\n",
    "print(\"Score with the training data R^2={0:.4f}\".format(grid_lr_pipe.score(x_train, y_train)))\n",
    "print(\"Score with the test data R^2={0:.4f}\".format(grid_lr_pipe.score(x_test, y_test)))\n",
    "print(\"Hyperparameters choosen with cross-validation\")\n",
    "print(grid_lr_pipe.best_params_)"
   ]
  },
  {
   "cell_type": "markdown",
   "metadata": {
    "id": "kewaCMtE9IGk"
   },
   "source": [
    "## 1.3 Pintar pesos y dar interpretación (5%)\n",
    "\n",
    "Imprimid los pesos del regresor logístico con el nombre de la variable correspondiente\n",
    "\n",
    "- Peso w0: XXX.XX\n",
    "- peso Variable1: YYY.YY\n",
    "- ...\n",
    "- peso VariableM: ZZZZ.ZZZZ\n",
    "\n",
    "y comentad la relevancia de cada variable en la clasificación. Puede ser de ayuda imprimir los pesos ordenados por valor absoluto."
   ]
  },
  {
   "cell_type": "code",
   "execution_count": 18,
   "metadata": {
    "colab": {
     "base_uri": "https://localhost:8080/"
    },
    "id": "FVeTot4d9IGl",
    "outputId": "f68e29ca-885a-48bd-c5ff-7989b124b960"
   },
   "outputs": [
    {
     "name": "stdout",
     "output_type": "stream",
     "text": [
      "peso LIMIT_BAL = 0.0846\n",
      "peso AGE = 0.0908\n",
      "peso PAY_0 = 0.6498\n",
      "peso PAY_2 = 0.1062\n",
      "peso PAY_3 = 0.0969\n",
      "peso PAY_4 = 0.0399\n",
      "peso PAY_5 = 0.0132\n",
      "peso PAY_6 = 0.0286\n",
      "peso BILL_AMT1 = 0.3947\n",
      "peso BILL_AMT2 = 0.1414\n",
      "peso BILL_AMT3 = 0.1385\n",
      "peso BILL_AMT4 = 0.0108\n",
      "peso BILL_AMT5 = 0.0282\n",
      "peso BILL_AMT6 = 0.0184\n",
      "peso PAY_AMT1 = 0.1665\n",
      "peso PAY_AMT2 = 0.2552\n",
      "peso PAY_AMT3 = 0.0502\n",
      "peso PAY_AMT4 = 0.0288\n",
      "peso PAY_AMT5 = 0.0430\n",
      "La variable más relevante en el modelo de regresión logística es el primer registro de pagos pasados  \n"
     ]
    }
   ],
   "source": [
    "#############\n",
    "# YOUR CODE #\n",
    "#############\n",
    "scaler = StandardScaler()\n",
    "clfs =  LogisticRegression(solver='liblinear')\n",
    "\n",
    "pipe = Pipeline(steps=[(\"scaler\", scaler), (\"clfs\", clfs)]).fit(x_train, y_train)\n",
    "pipe.score(x_test, y_test)\n",
    "\n",
    "for ii,ff in enumerate(num_var[:-1]):\n",
    "    print(\"peso {0} = {1:.4f}\".format(ff,np.abs(pipe['clfs'].coef_[[0],[ii]][0])))\n",
    "    \n",
    "print(\"La variable más relevante en el modelo de regresión logística es el primer registro de pagos pasados  \")\n",
    "#######\n",
    "# END #\n",
    "#######"
   ]
  },
  {
   "cell_type": "markdown",
   "metadata": {
    "id": "1yhwuPuJ9IGl"
   },
   "source": [
    "## 1.4 Curva ROC (10%)\n",
    "\n",
    "Dibujar la [curva ROC](https://scikit-learn.org/stable/modules/generated/sklearn.metrics.roc_curve.html) del clasificador anterior y calcular el [área bajo la curva](https://scikit-learn.org/stable/modules/generated/sklearn.metrics.roc_auc_score.html). Usad el conjunto de test para este apartado."
   ]
  },
  {
   "cell_type": "code",
   "execution_count": 19,
   "metadata": {
    "id": "OF4zJ7yz2UMg"
   },
   "outputs": [],
   "source": [
    "import matplotlib.pyplot as plt\n",
    "from sklearn import metrics\n",
    "from sklearn.metrics import roc_auc_score"
   ]
  },
  {
   "cell_type": "code",
   "execution_count": 20,
   "metadata": {
    "id": "hFo6gzy12MdW"
   },
   "outputs": [],
   "source": [
    "def curvaroc(y_test,y_predict):\n",
    "  fpr, tpr, thresholds = metrics.roc_curve(y_test,y_predict)\n",
    "  roc= roc_auc_score(y_test, y_predict)\n",
    "  display = metrics.RocCurveDisplay(fpr=fpr, tpr=tpr, roc_auc=roc,\n",
    "                                    estimator_name='estimator')\n",
    "  print(roc)\n",
    "  display.plot()\n",
    "  plt.show()\n",
    "  #######\n",
    "  # END #\n",
    "  #######"
   ]
  },
  {
   "cell_type": "code",
   "execution_count": 21,
   "metadata": {
    "colab": {
     "base_uri": "https://localhost:8080/",
     "height": 449
    },
    "id": "fsf45eiH2Mk4",
    "outputId": "b15ac6de-7147-4bf3-d5ee-6b0b935ebe0d"
   },
   "outputs": [
    {
     "name": "stdout",
     "output_type": "stream",
     "text": [
      "0.7212931262294187\n"
     ]
    },
    {
     "data": {
      "image/png": "[encoded data removed]",
      "text/plain": [
       "<Figure size 432x288 with 1 Axes>"
      ]
     },
     "metadata": {
      "needs_background": "light"
     },
     "output_type": "display_data"
    }
   ],
   "source": [
    "model= pipe.fit(x_train, y_train)\n",
    "y_predict = model.predict_proba(x_test)[:,1]\n",
    "curvaroc(y_test,y_predict)"
   ]
  },
  {
   "cell_type": "markdown",
   "metadata": {
    "id": "s-2dfZL99IGl"
   },
   "source": [
    "## 1.5 Transformación logarítmica de las variables numéricas y comparar (5%)\n",
    "\n",
    "Para controlar el impacto de los rangos de las variables numéricas vamos a emplear una transformación logarítmica. Como hay valores que pueden ser negativos, y el logaritmo sólo está definido para valores positivos, vamos a extender la transformación de modo que:\n",
    "$$\n",
    "y(x) = \\mbox{signo}(x) \\log_{10}(x)\n",
    "$$\n",
    "\n",
    "Escriba código que:\n",
    "- Aplique la siguiente función para hacer la transformación de los numpy arrays `X_train` y `X_test` en `LXtrain` y `LXtest`.\n",
    "- Entrene un modelo de regresión logística con las variables transformadas\n",
    "- Compare el acierto de este modelo con el baseline y con el modelo anterior\n",
    "- Pinte la curva ROC de este modelo y calcule el área bajo la curva\n",
    "- Imprima los valores de los pesos del modelo correspondiente a cada variable \n",
    "\n",
    "Discuta las diferencias entre este modelo y el anterior"
   ]
  },
  {
   "cell_type": "code",
   "execution_count": 22,
   "metadata": {
    "id": "Osq2BWsD9IGl"
   },
   "outputs": [],
   "source": [
    "def log_transform(x):\n",
    "    negativos = x <0\n",
    "    ceros = x == 0\n",
    "    ax = np.absolute(x)\n",
    "    ax[ceros] = 1\n",
    "    Lx = np.log10(ax)\n",
    "    Lx[negativos] = -Lx[negativos]\n",
    "    Lx[ceros] = 0\n",
    "    return Lx"
   ]
  },
  {
   "cell_type": "code",
   "execution_count": 23,
   "metadata": {
    "colab": {
     "base_uri": "https://localhost:8080/",
     "height": 449
    },
    "id": "NfENERyh3DUE",
    "outputId": "efc63f8d-06de-4f48-86e2-53e1e21cba58"
   },
   "outputs": [
    {
     "name": "stdout",
     "output_type": "stream",
     "text": [
      "0.7579688134200635\n"
     ]
    },
    {
     "data": {
      "image/png": "[encoded data removed]",
      "text/plain": [
       "<Figure size 432x288 with 1 Axes>"
      ]
     },
     "metadata": {
      "needs_background": "light"
     },
     "output_type": "display_data"
    }
   ],
   "source": [
    "LXtrain = log_transform(x_train)\n",
    "LXtest = log_transform(x_test)\n",
    "model_lg= pipe.fit(LXtrain, y_train)\n",
    "y_predict = model_lg.predict_proba(LXtest)[:,1]\n",
    "curvaroc(y_test,y_predict)"
   ]
  },
  {
   "cell_type": "code",
   "execution_count": 24,
   "metadata": {
    "colab": {
     "base_uri": "https://localhost:8080/"
    },
    "id": "U3WplB963DXT",
    "outputId": "35f34d3b-98d1-4683-d7af-274bd4ee9faa"
   },
   "outputs": [
    {
     "name": "stdout",
     "output_type": "stream",
     "text": [
      "Ha mejorado el score ROC al usar los valores logaritmos de los features comparado al modelo anterior y al baseline\n",
      "\n",
      "peso LIMIT_BAL = 0.1579\n",
      "peso AGE = 0.0892\n",
      "peso PAY_0 = 0.6217\n",
      "peso PAY_2 = 0.0506\n",
      "peso PAY_3 = 0.0393\n",
      "peso PAY_4 = 0.0269\n",
      "peso PAY_5 = 0.0822\n",
      "peso PAY_6 = 0.0926\n",
      "peso BILL_AMT1 = 0.2055\n",
      "peso BILL_AMT2 = 0.0979\n",
      "peso BILL_AMT3 = 0.1992\n",
      "peso BILL_AMT4 = 0.0853\n",
      "peso BILL_AMT5 = 0.0813\n",
      "peso BILL_AMT6 = 0.1350\n",
      "peso PAY_AMT1 = 0.2818\n",
      "peso PAY_AMT2 = 0.2487\n",
      "peso PAY_AMT3 = 0.2085\n",
      "peso PAY_AMT4 = 0.1024\n",
      "peso PAY_AMT5 = 0.1021\n"
     ]
    }
   ],
   "source": [
    "print(\"Ha mejorado el score ROC al usar los valores logaritmos de los features comparado al modelo anterior y al baseline\")\n",
    "print(\"\")\n",
    "for ii,ff in enumerate(num_var[:-1]):\n",
    "    print(\"peso {0} = {1:.4f}\".format(ff,np.abs(model_lg['clfs'].coef_[[0],[ii]][0])))\n",
    "\n",
    "#######\n",
    "# END #\n",
    "#######"
   ]
  },
  {
   "cell_type": "markdown",
   "metadata": {
    "id": "MC6Dr29N9IGm"
   },
   "source": [
    "\n",
    "\n",
    "\n",
    "## 1.6 Combinaciones de variables numéricas, extensión polinómica y de ratios (5%)\n",
    "\n",
    "Para completar el análisis de las variables numéricas vamos a extender las mismas con combinaciones de variables. \n",
    "\n",
    "Escriba código que:\n",
    "- Extienda las variables en los arrays `LXtrain` y `LXtest` a combinaciones de grado 2, y con variables sin repetir (es decir, con el argumento `interaction_only=True`).\n",
    "- Entrena un modelo de clasificación con regresión logística con las características resultantes\n",
    "- Compare el acierto de este modelo con el baseline y con los modelos anteriores\n",
    "- Pinte la curva ROC de este modelo y calcule el área bajo la curva\n",
    "- Imprima los valores de los pesos del modelo correspondiente a cada variable \n",
    "\n",
    "Discuta las diferencias entre este modelo y los anteriores"
   ]
  },
  {
   "cell_type": "code",
   "execution_count": 25,
   "metadata": {
    "id": "c4KcLCM83jng"
   },
   "outputs": [],
   "source": [
    "from sklearn.preprocessing import PolynomialFeatures\n",
    "poly = PolynomialFeatures(interaction_only=True, \n",
    "                          degree=2,\n",
    "                         include_bias=False)\n",
    "LXtrain_g2 = poly.fit_transform(LXtrain)\n",
    "LXtest_g2 = poly.transform(LXtest)"
   ]
  },
  {
   "cell_type": "code",
   "execution_count": 26,
   "metadata": {
    "colab": {
     "base_uri": "https://localhost:8080/",
     "height": 449
    },
    "id": "nxmhsbEu3jvZ",
    "outputId": "4482191c-d13e-4baa-cdb7-29ff765fea94"
   },
   "outputs": [
    {
     "name": "stdout",
     "output_type": "stream",
     "text": [
      "0.7603340923516884\n"
     ]
    },
    {
     "data": {
      "image/png": "[encoded data removed]",
      "text/plain": [
       "<Figure size 432x288 with 1 Axes>"
      ]
     },
     "metadata": {
      "needs_background": "light"
     },
     "output_type": "display_data"
    }
   ],
   "source": [
    "model_lg2= pipe.fit(LXtrain_g2, y_train)\n",
    "y_predict = model_lg2.predict_proba(LXtest_g2)[:,1]\n",
    "curvaroc(y_test,y_predict)"
   ]
  },
  {
   "cell_type": "code",
   "execution_count": 27,
   "metadata": {
    "colab": {
     "base_uri": "https://localhost:8080/"
    },
    "id": "dZhgWDZS9IGm",
    "outputId": "0a87e995-996b-48ea-bc0e-d50e8d0e2a17",
    "scrolled": false
   },
   "outputs": [
    {
     "name": "stdout",
     "output_type": "stream",
     "text": [
      "peso LIMIT_BAL = 0.4112\n",
      "peso AGE = 0.0138\n",
      "peso PAY_0 = 0.5110\n",
      "peso PAY_2 = 0.3765\n",
      "peso PAY_3 = 0.0598\n",
      "peso PAY_4 = 0.0365\n",
      "peso PAY_5 = 0.0223\n",
      "peso PAY_6 = 0.0587\n",
      "peso BILL_AMT1 = 0.3029\n",
      "peso BILL_AMT2 = 0.8835\n",
      "peso BILL_AMT3 = 0.2581\n",
      "peso BILL_AMT4 = 0.0345\n",
      "peso BILL_AMT5 = 0.4207\n",
      "peso BILL_AMT6 = 0.1361\n",
      "peso PAY_AMT1 = 0.1298\n",
      "peso PAY_AMT2 = 0.0201\n",
      "peso PAY_AMT3 = 0.1155\n",
      "peso PAY_AMT4 = 0.0612\n",
      "peso PAY_AMT5 = 0.5166\n",
      "\n",
      "Ha mejorado el score ROC al usar los valores logaritmos de los features comparado al modelo anterior y al baseline.Ahora la variable más relevante es el pago AMT2 a diferencia del modelo anterior\n"
     ]
    }
   ],
   "source": [
    "for ii,ff in enumerate(num_var[:-1]):\n",
    "    print(\"peso {0} = {1:.4f}\".format(ff,np.abs(model_lg2['clfs'].coef_[[0],[ii]][0])))\n",
    "print(\"\")\n",
    "print(\"Ha mejorado el score ROC al usar los valores logaritmos de los features comparado al modelo anterior y al baseline.\" \n",
    "      \"Ahora la variable más relevante es el pago AMT2 a diferencia del modelo anterior\")"
   ]
  },
  {
   "cell_type": "markdown",
   "metadata": {
    "id": "WrLb2x4y9IGm"
   },
   "source": [
    "# 2. Añadir variables categóricas con dummy encodings \n",
    "\n",
    "En la siguiente sección vamos a enriquecer los modelos añadiendo variables categóricas\n",
    "\n"
   ]
  },
  {
   "cell_type": "markdown",
   "metadata": {
    "id": "XT0zXsAN9IGm"
   },
   "source": [
    "## 2.1 Discretizar edad en 5 bins (10%)\n",
    "\n",
    "Vamos a comenzar discretizando la edad en 5 *bins*. Escriba código que\n",
    "- Discretice la variable `AGE` en 5 *bins* con aproximadamente el mismo número de clientes en cada bin, incluyendo una columna llamada 'AGE_bins' en los dataframes `train_df` y `test_df` con los números de *bin* correspondiente\n",
    "- Obtenga numpy arrays `X_train_cat_dummy` y `X_test_cat_dummy` con la codificación *dummy* de las variable `AGE_bins`\n",
    "- Extienda las observaciones añadiendo estos arrays a `LXtrain` y `LXtest` (no incluyáis las extensiones polinómicas). Eliminando la columna correspondiente a la variable `AGE`original.\n",
    "- Entrene un modelo de clasificación con regresión logística con las características resultantes\n",
    "- Compare el acierto de este modelo con el baseline y con los modelos anteriores\n",
    "- Pinte la curva ROC de este modelo y calcule el área bajo la curva\n",
    "- Imprima los valores de los pesos del modelo correspondiente a cada variable \n"
   ]
  },
  {
   "cell_type": "code",
   "execution_count": 28,
   "metadata": {
    "id": "Ww0jtLyw65hW"
   },
   "outputs": [],
   "source": [
    "from sklearn.preprocessing import KBinsDiscretizer\n",
    "from sklearn.preprocessing import OneHotEncoder"
   ]
  },
  {
   "cell_type": "code",
   "execution_count": 29,
   "metadata": {
    "id": "075qOEul65kQ"
   },
   "outputs": [
    {
     "name": "stderr",
     "output_type": "stream",
     "text": [
      "<ipython-input-29-ea87fd217f71>:3: SettingWithCopyWarning: \n",
      "A value is trying to be set on a copy of a slice from a DataFrame.\n",
      "Try using .loc[row_indexer,col_indexer] = value instead\n",
      "\n",
      "See the caveats in the documentation: https://pandas.pydata.org/pandas-docs/stable/user_guide/indexing.html#returning-a-view-versus-a-copy\n",
      "  train_df.loc[:,['AGE_bins']] = AGE_bins\n",
      "<ipython-input-29-ea87fd217f71>:5: SettingWithCopyWarning: \n",
      "A value is trying to be set on a copy of a slice from a DataFrame.\n",
      "Try using .loc[row_indexer,col_indexer] = value instead\n",
      "\n",
      "See the caveats in the documentation: https://pandas.pydata.org/pandas-docs/stable/user_guide/indexing.html#returning-a-view-versus-a-copy\n",
      "  test_df.loc[:,['AGE_bins']] = AGE_bins_test\n"
     ]
    }
   ],
   "source": [
    "# discretizando la variable AGE en 5 bins \n",
    "AGE_bins = KBinsDiscretizer(n_bins=5,encode='ordinal',strategy='quantile').fit_transform(train_df[['AGE']])\n",
    "train_df.loc[:,['AGE_bins']] = AGE_bins\n",
    "AGE_bins_test = KBinsDiscretizer(n_bins=5,encode='ordinal',strategy='quantile').fit_transform(test_df[['AGE']])\n",
    "test_df.loc[:,['AGE_bins']] = AGE_bins_test"
   ]
  },
  {
   "cell_type": "code",
   "execution_count": 30,
   "metadata": {
    "colab": {
     "base_uri": "https://localhost:8080/"
    },
    "id": "RCN7rVah65nb",
    "outputId": "50943598-88f9-411a-98b9-ff127830e8ef"
   },
   "outputs": [],
   "source": [
    "## dummy de la variable discreta edad\n",
    "dummy = OneHotEncoder(sparse = False,drop='first')\n",
    "X_train_cat_dummy = dummy.fit_transform(train_df[['AGE_bins']])\n",
    "X_test_cat_dummy = dummy.transform(test_df[['AGE_bins']])"
   ]
  },
  {
   "cell_type": "code",
   "execution_count": 31,
   "metadata": {
    "id": "RqmxpYeO65qF"
   },
   "outputs": [],
   "source": [
    "LXtrain = np.append(LXtrain,X_train_cat_dummy,1)\n",
    "LXtest = np.append(LXtest,X_test_cat_dummy,1)"
   ]
  },
  {
   "cell_type": "code",
   "execution_count": 32,
   "metadata": {
    "colab": {
     "base_uri": "https://localhost:8080/",
     "height": 466
    },
    "id": "M6D7sHrU65s5",
    "outputId": "9396e3db-ff7e-4047-b99d-dc64f68916df"
   },
   "outputs": [
    {
     "name": "stdout",
     "output_type": "stream",
     "text": [
      "0.7575702525770163\n"
     ]
    },
    {
     "data": {
      "image/png": "[encoded data removed]",
      "text/plain": [
       "<Figure size 432x288 with 1 Axes>"
      ]
     },
     "metadata": {
      "needs_background": "light"
     },
     "output_type": "display_data"
    }
   ],
   "source": [
    "model_lg= pipe.fit(LXtrain, y_train)\n",
    "y_predict = model_lg.predict_proba(LXtest)[:,1]\n",
    "curvaroc(y_test,y_predict)"
   ]
  },
  {
   "cell_type": "code",
   "execution_count": 33,
   "metadata": {
    "colab": {
     "base_uri": "https://localhost:8080/"
    },
    "id": "35NpfotdLfOy",
    "outputId": "2bbb0f8a-9b70-4800-b8c6-dd11ddcf586e"
   },
   "outputs": [
    {
     "name": "stdout",
     "output_type": "stream",
     "text": [
      "Se mantiene el score al usar las variables logaritmicas y reemplazar el valor de age por variables discretas; aún mantiene un mejor score que el baseline\n",
      "\n",
      "peso LIMIT_BAL = 0.1623\n",
      "peso PAY_0 = 0.1001\n",
      "peso PAY_2 = 0.6212\n",
      "peso PAY_3 = 0.0508\n",
      "peso PAY_4 = 0.0396\n",
      "peso PAY_5 = 0.0268\n",
      "peso PAY_6 = 0.0823\n",
      "peso BILL_AMT1 = 0.0925\n",
      "peso BILL_AMT2 = 0.2056\n",
      "peso BILL_AMT3 = 0.0982\n",
      "peso BILL_AMT4 = 0.1990\n",
      "peso BILL_AMT5 = 0.0852\n",
      "peso BILL_AMT6 = 0.0815\n",
      "peso PAY_AMT1 = 0.1355\n",
      "peso PAY_AMT2 = 0.2817\n",
      "peso PAY_AMT3 = 0.2487\n",
      "peso PAY_AMT4 = 0.2085\n",
      "peso PAY_AMT5 = 0.1027\n",
      "peso PAY_AMT6 = 0.1021\n",
      "peso edad_0 = 0.0552\n",
      "peso edad_1 = 0.0024\n",
      "peso edad_2 = 0.0012\n",
      "peso edad_3 = 0.0213\n"
     ]
    }
   ],
   "source": [
    "num_var1 = [var for var in num_var if var != 'AGE']\n",
    "num_var2 = num_var1+['edad_0']+['edad_1']+['edad_2']+['edad_3']\n",
    "print(\"Se mantiene el score al usar las variables logaritmicas y reemplazar el valor de age por variables discretas; aún mantiene un mejor score que el baseline\")\n",
    "print(\"\")\n",
    "for ii,ff in enumerate(num_var2[:]):\n",
    "    print(\"peso {0} = {1:.4f}\".format(ff,np.abs(model_lg['clfs'].coef_[[0],[ii]][0])))\n",
    "#######\n",
    "# END #\n",
    "#######"
   ]
  },
  {
   "cell_type": "markdown",
   "metadata": {
    "id": "HRvDCzPb9IGm"
   },
   "source": [
    "## 2.2 Añadir más variables categóricas: variables PAY_0 a PAY_6 e info sociodemográfica (10%)\n",
    "\n",
    "A continuación  vamos a añadir al modelo las variables que describen el histórico de los usos del crédito y de los retrasos en el pago y las variables `SEX`,`EDUCATION`, `MARRIAGE` y `AGE_bins` codificadas con *dummy encoding*.\n",
    ". Escriba código que: \n",
    "- Obtenga numpy arrays `X_train_cat_dummy` y `X_test_cat_dummy` con la codificación *dummy* de las variables `SEX`,`EDUCATION`,`MARRIAGE`, `PAY_0_dis`, `PAY_2_dis`, `PAY_3_dis`, `PAY_4_dis`, `PAY_5_dis` y `PAY_6_dis`\n",
    "- Extienda las observaciones añadiendo estos arrays a `LXtrain` y `LXtest` (no incluyáis las extensiones polinómicas). Eliminando la columna correspondiente a la variable `AGE`original.\n",
    "- Entrene un modelo de clasificación con regresión logística con las características resultantes\n",
    "- Compare el acierto de este modelo con el baseline y con los modelos anteriores\n",
    "- Pinte la curva ROC de este modelo y calcule el área bajo la curva\n",
    "- Imprima los valores de los pesos del modelo correspondiente a cada variable \n"
   ]
  },
  {
   "cell_type": "code",
   "execution_count": 34,
   "metadata": {
    "id": "UZNiis4k6Mvc"
   },
   "outputs": [],
   "source": [
    "dummy = OneHotEncoder(sparse = False, drop='first')"
   ]
  },
  {
   "cell_type": "code",
   "execution_count": 35,
   "metadata": {
    "colab": {
     "base_uri": "https://localhost:8080/"
    },
    "id": "B46oy_em6Myj",
    "outputId": "c43f0bc5-23f4-427e-8201-81370ba6d139"
   },
   "outputs": [],
   "source": [
    "X_train_cat_dummy_2 = dummy.fit_transform(train_df[['SEX','EDUCATION','MARRIAGE','PAY_0_dis','PAY_2_dis','PAY_3_dis','PAY_4_dis','PAY_5_dis' ,'PAY_6_dis']])\n",
    "X_test_cat_dummy_2 = dummy.fit_transform(test_df[['SEX','EDUCATION','MARRIAGE','PAY_0_dis','PAY_2_dis','PAY_3_dis','PAY_4_dis','PAY_5_dis' ,'PAY_6_dis']])"
   ]
  },
  {
   "cell_type": "code",
   "execution_count": 36,
   "metadata": {
    "id": "ws7F1GRz6M1a"
   },
   "outputs": [],
   "source": [
    "LXtrain = np.append(LXtrain,X_train_cat_dummy_2,1)\n",
    "LXtest = np.append(LXtest,X_test_cat_dummy_2,1)"
   ]
  },
  {
   "cell_type": "code",
   "execution_count": 37,
   "metadata": {
    "colab": {
     "base_uri": "https://localhost:8080/",
     "height": 466
    },
    "id": "uMscKPRn6M4J",
    "outputId": "346bc056-276d-4d5f-e5c1-c485f32efdd0"
   },
   "outputs": [
    {
     "name": "stdout",
     "output_type": "stream",
     "text": [
      "0.7697608564597105\n"
     ]
    },
    {
     "data": {
      "image/png": "[encoded data removed]",
      "text/plain": [
       "<Figure size 432x288 with 1 Axes>"
      ]
     },
     "metadata": {
      "needs_background": "light"
     },
     "output_type": "display_data"
    }
   ],
   "source": [
    "model_lg= pipe.fit(LXtrain, y_train)\n",
    "y_predict = model_lg.predict_proba(LXtest)[:,1]\n",
    "curvaroc(y_test,y_predict)"
   ]
  },
  {
   "cell_type": "code",
   "execution_count": 38,
   "metadata": {
    "colab": {
     "base_uri": "https://localhost:8080/"
    },
    "id": "5R2q-BGp6M6y",
    "outputId": "4a8a0586-b8b6-45ff-8645-2e8fab315176"
   },
   "outputs": [
    {
     "name": "stdout",
     "output_type": "stream",
     "text": [
      "Mejoro el score de AUC sumando las variables categoricas en dummies; aún mantiene un mejor score que el baseline\n",
      "\n",
      "peso LIMIT_BAL = 0.2105\n",
      "peso PAY_0 = 0.0746\n",
      "peso PAY_2 = 0.5346\n",
      "peso PAY_3 = 0.5416\n",
      "peso PAY_4 = 0.3015\n",
      "peso PAY_5 = 0.3483\n",
      "peso PAY_6 = 0.1392\n",
      "peso BILL_AMT1 = 0.3456\n",
      "peso BILL_AMT2 = 0.0286\n",
      "peso BILL_AMT3 = 0.0029\n",
      "peso BILL_AMT4 = 0.1546\n",
      "peso BILL_AMT5 = 0.0755\n",
      "peso BILL_AMT6 = 0.0777\n",
      "peso PAY_AMT1 = 0.0634\n",
      "peso PAY_AMT2 = 0.1610\n",
      "peso PAY_AMT3 = 0.1896\n",
      "peso PAY_AMT4 = 0.1709\n",
      "peso PAY_AMT5 = 0.0806\n",
      "peso PAY_AMT6 = 0.0379\n",
      "peso edad_0 = 0.0319\n",
      "peso edad_1 = 0.0065\n",
      "peso edad_2 = 0.0178\n",
      "peso edad_3 = 0.0020\n"
     ]
    }
   ],
   "source": [
    "print(\"Mejoro el score de AUC sumando las variables categoricas en dummies; aún mantiene un mejor score que el baseline\")\n",
    "print(\"\")\n",
    "for ii,ff in enumerate(num_var2[:]):\n",
    "    print(\"peso {0} = {1:.4f}\".format(ff,np.abs(model_lg['clfs'].coef_[[0],[ii]][0])))\n",
    "#######\n",
    "# END #\n",
    "#######"
   ]
  },
  {
   "cell_type": "markdown",
   "metadata": {
    "id": "1IYR_A469IGn"
   },
   "source": [
    "## 2.4 OPCIONAL: métodos no lineales (10%, extra)\n",
    "\n",
    "**Este apartado es opcional: su nota se suma a la nota del proyecto, pero no es necesario para conseguir la máxima calificación.**\n",
    "\n",
    "Podemos cambiar la tecnología de clasificación por si acaso el modelo que mejor se ajuste a nuestros datos fuese no lineal. \n",
    "\n",
    "Escribid código que evalúe modelos construidos con $k$ vecinos más próximos. Emplead como juegos de características los del apartado anterior. Explorad el rango de vecinos entre 1 y 101 (no hace falta que probéis todos los valores, que la base de datos no es pequeña)\n",
    "\n",
    "Alternativamente podéis emplear [*Random Forest*](https://scikit-learn.org/stable/modules/generated/sklearn.ensemble.RandomForestClassifier.html) explorando estos rangos de parámetros:\n",
    "- `n_estimators` \n",
    "- `max_leaf_nodes` o `max_depth`"
   ]
  },
  {
   "cell_type": "code",
   "execution_count": 39,
   "metadata": {
    "id": "nudQBQ5J9bqY"
   },
   "outputs": [],
   "source": [
    "from sklearn.ensemble import RandomForestClassifier\n",
    "from sklearn.datasets import make_classification\n",
    "from sklearn.neighbors import KNeighborsClassifier\n",
    "from sklearn.metrics import accuracy_score\n",
    "from sklearn.model_selection import GridSearchCV\n",
    "from sklearn.metrics import roc_auc_score, make_scorer"
   ]
  },
  {
   "cell_type": "code",
   "execution_count": 40,
   "metadata": {
    "id": "Abq-kGv69b1Z"
   },
   "outputs": [],
   "source": [
    "k_values = range(1, 102, 10) # probamos valores de k desde 1 hasta 101 en incrementos de 10\n",
    "accuracies = [] "
   ]
  },
  {
   "cell_type": "code",
   "execution_count": 41,
   "metadata": {
    "colab": {
     "base_uri": "https://localhost:8080/"
    },
    "id": "rPquIOHB9cAK",
    "outputId": "4fa3d4a9-e91d-4cf1-cf25-65ecb424b899"
   },
   "outputs": [
    {
     "name": "stdout",
     "output_type": "stream",
     "text": [
      "k=1, accuracy=0.7317\n",
      "k=11, accuracy=0.7997\n",
      "k=21, accuracy=0.8011\n",
      "k=31, accuracy=0.8019\n",
      "k=41, accuracy=0.8027\n",
      "k=51, accuracy=0.8044\n",
      "k=61, accuracy=0.8032\n",
      "k=71, accuracy=0.8028\n",
      "k=81, accuracy=0.8031\n",
      "k=91, accuracy=0.8005\n",
      "k=101, accuracy=0.801\n"
     ]
    }
   ],
   "source": [
    "for k in k_values:\n",
    "    model = KNeighborsClassifier(n_neighbors=k)\n",
    "    model.fit(LXtrain, y_train)\n",
    "    y_pred = model.predict(LXtest)\n",
    "    acc = accuracy_score(y_test, y_pred)\n",
    "    accuracies.append(acc)\n",
    "    print(f\"k={k}, accuracy={acc}\")"
   ]
  },
  {
   "cell_type": "code",
   "execution_count": 42,
   "metadata": {
    "colab": {
     "base_uri": "https://localhost:8080/"
    },
    "id": "I0G47RMy9IGn",
    "outputId": "59ddea2e-9abf-43b1-b675-37bcc3a2c34b"
   },
   "outputs": [
    {
     "name": "stdout",
     "output_type": "stream",
     "text": [
      "Mejores parámetros encontrados:\n",
      "{'max_depth': 5, 'n_estimators': 200}\n",
      "\n",
      "Mejor puntuación en la validación cruzada:\n",
      "0.8187\n",
      "\n"
     ]
    }
   ],
   "source": [
    "param_grid = {'n_estimators':[50,100,200],\n",
    "              'max_depth':[5,10,20]}\n",
    "scoring = {'AUC':make_scorer(roc_auc_score)}\n",
    "clf = RandomForestClassifier(random_state=0)\n",
    "grid_search = GridSearchCV(clf,param_grid,cv=2)\n",
    "grid_search.fit(LXtrain, y_train)\n",
    "print('Mejores parámetros encontrados:')\n",
    "print(grid_search.best_params_)\n",
    "print()\n",
    "print('Mejor puntuación en la validación cruzada:')\n",
    "print(grid_search.best_score_)\n",
    "print()"
   ]
  },
  {
   "cell_type": "markdown",
   "metadata": {
    "id": "jfLwE8G_9IGn"
   },
   "source": [
    "# 3. Estudio de grupos demográficos\n",
    "\n",
    "En la última sección vamos a intentar mejorar la interpretabilidad de los modelos mediante la creción de unas variables que segmenten los clientes atendiendo a criterios sociodemográficos.\n",
    "\n",
    "En primer lugar vamos a definir los segmentos de clientes definidos por las variables `SEX`,`EDUCATION`,`MARRIAGE`,`AGE_bins`. Primero vamos a agrupar estas variables en una única variable categórica `GRUPO` que tomará distintos valores enteros en función de las combinaciones de estas variables.\n",
    "\n",
    "El siguiente código es una manera de conseguir esto. Básicamente cada grupo se codifica con un entero que resulta de sumar los siquientes valores:\n",
    "\n",
    "$$\n",
    "\\mbox{GRUPO}(x) = 1000 \\times x[\\mbox{'SEX'}] + 100 \\times x[\\mbox{'EDUCATION'}] + 10 \\times x[\\mbox{'MARRIAGE'}] + x[\\mbox{'AGE_bins'}] \n",
    "$$\n",
    "\n"
   ]
  },
  {
   "cell_type": "code",
   "execution_count": 43,
   "metadata": {
    "id": "jOlGrPPL9IGn"
   },
   "outputs": [
    {
     "name": "stderr",
     "output_type": "stream",
     "text": [
      "<ipython-input-43-5de3bd66c47a>:3: SettingWithCopyWarning: \n",
      "A value is trying to be set on a copy of a slice from a DataFrame.\n",
      "Try using .loc[row_indexer,col_indexer] = value instead\n",
      "\n",
      "See the caveats in the documentation: https://pandas.pydata.org/pandas-docs/stable/user_guide/indexing.html#returning-a-view-versus-a-copy\n",
      "  train_df.loc[:,'GRUPO'] = (train_df.loc[:,columns_cat].values).dot(mascara)\n",
      "<ipython-input-43-5de3bd66c47a>:4: SettingWithCopyWarning: \n",
      "A value is trying to be set on a copy of a slice from a DataFrame.\n",
      "Try using .loc[row_indexer,col_indexer] = value instead\n",
      "\n",
      "See the caveats in the documentation: https://pandas.pydata.org/pandas-docs/stable/user_guide/indexing.html#returning-a-view-versus-a-copy\n",
      "  test_df.loc[:,'GRUPO']= (test_df.loc[:,columns_cat].values).dot(mascara)\n"
     ]
    }
   ],
   "source": [
    "columns_cat = ['SEX','EDUCATION','MARRIAGE','AGE_bins']\n",
    "mascara = np.array([1000, 100, 10, 1])\n",
    "train_df.loc[:,'GRUPO'] = (train_df.loc[:,columns_cat].values).dot(mascara)\n",
    "test_df.loc[:,'GRUPO']= (test_df.loc[:,columns_cat].values).dot(mascara)"
   ]
  },
  {
   "cell_type": "markdown",
   "metadata": {
    "id": "8-cl5XFC9IGn"
   },
   "source": [
    "## 3.1 Grupos con dummy encoding y variables continuas (10%)\n",
    "\n",
    "La primera aproximación consiste en codificar *dummy encoding* la variable grupo. En este caso hay que pasarle al objeto `OneHotEncoder` un listado con las categorías que hay en cada característica porque puede que algún grupo minoritario aparezca en el conjunto de test pero no en el de entrenamiento, por lo que el codificador no va a ser capaz de aprender todos los valores de esa característica solo mirando el conjunto de entrenamiento.\n",
    "\n",
    "El siguiente código se encarga de hacer esto mismo. La salida de este código son dos variables a tener en cuenta:\n",
    "- `lista_grupo`: lista de python con todos los valores que puede tomar la variable `GRUPO`\n",
    "- `dict_grupo`: diccionario de python donde cada valor que puede tomar la variable `GRUPO` se empareja con una cadena de caracteres que describe el segmento de clientes que codifica este valor\n",
    "\n"
   ]
  },
  {
   "cell_type": "code",
   "execution_count": 44,
   "metadata": {
    "colab": {
     "base_uri": "https://localhost:8080/"
    },
    "id": "ziqK2xov9IGn",
    "outputId": "5ab528bd-f9f6-4c6c-b5d8-9cae9912428a"
   },
   "outputs": [
    {
     "name": "stdout",
     "output_type": "stream",
     "text": [
      "[[1000, 2000], [100, 200, 300, 400], [10, 20, 30], [0.0, 1.0, 2.0, 3.0, 4.0]]\n",
      "\n",
      "lista_grupo:  [1110.0, 1111.0, 1112.0, 1113.0, 1114.0, 1120.0, 1121.0, 1122.0, 1123.0, 1124.0, 1130.0, 1131.0, 1132.0, 1133.0, 1134.0, 1210.0, 1211.0, 1212.0, 1213.0, 1214.0, 1220.0, 1221.0, 1222.0, 1223.0, 1224.0, 1230.0, 1231.0, 1232.0, 1233.0, 1234.0, 1310.0, 1311.0, 1312.0, 1313.0, 1314.0, 1320.0, 1321.0, 1322.0, 1323.0, 1324.0, 1330.0, 1331.0, 1332.0, 1333.0, 1334.0, 1410.0, 1411.0, 1412.0, 1413.0, 1414.0, 1420.0, 1421.0, 1422.0, 1423.0, 1424.0, 1430.0, 1431.0, 1432.0, 1433.0, 1434.0, 2110.0, 2111.0, 2112.0, 2113.0, 2114.0, 2120.0, 2121.0, 2122.0, 2123.0, 2124.0, 2130.0, 2131.0, 2132.0, 2133.0, 2134.0, 2210.0, 2211.0, 2212.0, 2213.0, 2214.0, 2220.0, 2221.0, 2222.0, 2223.0, 2224.0, 2230.0, 2231.0, 2232.0, 2233.0, 2234.0, 2310.0, 2311.0, 2312.0, 2313.0, 2314.0, 2320.0, 2321.0, 2322.0, 2323.0, 2324.0, 2330.0, 2331.0, 2332.0, 2333.0, 2334.0, 2410.0, 2411.0, 2412.0, 2413.0, 2414.0, 2420.0, 2421.0, 2422.0, 2423.0, 2424.0, 2430.0, 2431.0, 2432.0, 2433.0, 2434.0]\n",
      "\n",
      "dict_grupo {1110.0: 'SEX_1_EDU_1_MAR_1_AGE_0', 1111.0: 'SEX_1_EDU_1_MAR_1_AGE_1', 1112.0: 'SEX_1_EDU_1_MAR_1_AGE_2', 1113.0: 'SEX_1_EDU_1_MAR_1_AGE_3', 1114.0: 'SEX_1_EDU_1_MAR_1_AGE_4', 1120.0: 'SEX_1_EDU_1_MAR_2_AGE_0', 1121.0: 'SEX_1_EDU_1_MAR_2_AGE_1', 1122.0: 'SEX_1_EDU_1_MAR_2_AGE_2', 1123.0: 'SEX_1_EDU_1_MAR_2_AGE_3', 1124.0: 'SEX_1_EDU_1_MAR_2_AGE_4', 1130.0: 'SEX_1_EDU_1_MAR_3_AGE_0', 1131.0: 'SEX_1_EDU_1_MAR_3_AGE_1', 1132.0: 'SEX_1_EDU_1_MAR_3_AGE_2', 1133.0: 'SEX_1_EDU_1_MAR_3_AGE_3', 1134.0: 'SEX_1_EDU_1_MAR_3_AGE_4', 1210.0: 'SEX_1_EDU_2_MAR_1_AGE_0', 1211.0: 'SEX_1_EDU_2_MAR_1_AGE_1', 1212.0: 'SEX_1_EDU_2_MAR_1_AGE_2', 1213.0: 'SEX_1_EDU_2_MAR_1_AGE_3', 1214.0: 'SEX_1_EDU_2_MAR_1_AGE_4', 1220.0: 'SEX_1_EDU_2_MAR_2_AGE_0', 1221.0: 'SEX_1_EDU_2_MAR_2_AGE_1', 1222.0: 'SEX_1_EDU_2_MAR_2_AGE_2', 1223.0: 'SEX_1_EDU_2_MAR_2_AGE_3', 1224.0: 'SEX_1_EDU_2_MAR_2_AGE_4', 1230.0: 'SEX_1_EDU_2_MAR_3_AGE_0', 1231.0: 'SEX_1_EDU_2_MAR_3_AGE_1', 1232.0: 'SEX_1_EDU_2_MAR_3_AGE_2', 1233.0: 'SEX_1_EDU_2_MAR_3_AGE_3', 1234.0: 'SEX_1_EDU_2_MAR_3_AGE_4', 1310.0: 'SEX_1_EDU_3_MAR_1_AGE_0', 1311.0: 'SEX_1_EDU_3_MAR_1_AGE_1', 1312.0: 'SEX_1_EDU_3_MAR_1_AGE_2', 1313.0: 'SEX_1_EDU_3_MAR_1_AGE_3', 1314.0: 'SEX_1_EDU_3_MAR_1_AGE_4', 1320.0: 'SEX_1_EDU_3_MAR_2_AGE_0', 1321.0: 'SEX_1_EDU_3_MAR_2_AGE_1', 1322.0: 'SEX_1_EDU_3_MAR_2_AGE_2', 1323.0: 'SEX_1_EDU_3_MAR_2_AGE_3', 1324.0: 'SEX_1_EDU_3_MAR_2_AGE_4', 1330.0: 'SEX_1_EDU_3_MAR_3_AGE_0', 1331.0: 'SEX_1_EDU_3_MAR_3_AGE_1', 1332.0: 'SEX_1_EDU_3_MAR_3_AGE_2', 1333.0: 'SEX_1_EDU_3_MAR_3_AGE_3', 1334.0: 'SEX_1_EDU_3_MAR_3_AGE_4', 1410.0: 'SEX_1_EDU_4_MAR_1_AGE_0', 1411.0: 'SEX_1_EDU_4_MAR_1_AGE_1', 1412.0: 'SEX_1_EDU_4_MAR_1_AGE_2', 1413.0: 'SEX_1_EDU_4_MAR_1_AGE_3', 1414.0: 'SEX_1_EDU_4_MAR_1_AGE_4', 1420.0: 'SEX_1_EDU_4_MAR_2_AGE_0', 1421.0: 'SEX_1_EDU_4_MAR_2_AGE_1', 1422.0: 'SEX_1_EDU_4_MAR_2_AGE_2', 1423.0: 'SEX_1_EDU_4_MAR_2_AGE_3', 1424.0: 'SEX_1_EDU_4_MAR_2_AGE_4', 1430.0: 'SEX_1_EDU_4_MAR_3_AGE_0', 1431.0: 'SEX_1_EDU_4_MAR_3_AGE_1', 1432.0: 'SEX_1_EDU_4_MAR_3_AGE_2', 1433.0: 'SEX_1_EDU_4_MAR_3_AGE_3', 1434.0: 'SEX_1_EDU_4_MAR_3_AGE_4', 2110.0: 'SEX_2_EDU_1_MAR_1_AGE_0', 2111.0: 'SEX_2_EDU_1_MAR_1_AGE_1', 2112.0: 'SEX_2_EDU_1_MAR_1_AGE_2', 2113.0: 'SEX_2_EDU_1_MAR_1_AGE_3', 2114.0: 'SEX_2_EDU_1_MAR_1_AGE_4', 2120.0: 'SEX_2_EDU_1_MAR_2_AGE_0', 2121.0: 'SEX_2_EDU_1_MAR_2_AGE_1', 2122.0: 'SEX_2_EDU_1_MAR_2_AGE_2', 2123.0: 'SEX_2_EDU_1_MAR_2_AGE_3', 2124.0: 'SEX_2_EDU_1_MAR_2_AGE_4', 2130.0: 'SEX_2_EDU_1_MAR_3_AGE_0', 2131.0: 'SEX_2_EDU_1_MAR_3_AGE_1', 2132.0: 'SEX_2_EDU_1_MAR_3_AGE_2', 2133.0: 'SEX_2_EDU_1_MAR_3_AGE_3', 2134.0: 'SEX_2_EDU_1_MAR_3_AGE_4', 2210.0: 'SEX_2_EDU_2_MAR_1_AGE_0', 2211.0: 'SEX_2_EDU_2_MAR_1_AGE_1', 2212.0: 'SEX_2_EDU_2_MAR_1_AGE_2', 2213.0: 'SEX_2_EDU_2_MAR_1_AGE_3', 2214.0: 'SEX_2_EDU_2_MAR_1_AGE_4', 2220.0: 'SEX_2_EDU_2_MAR_2_AGE_0', 2221.0: 'SEX_2_EDU_2_MAR_2_AGE_1', 2222.0: 'SEX_2_EDU_2_MAR_2_AGE_2', 2223.0: 'SEX_2_EDU_2_MAR_2_AGE_3', 2224.0: 'SEX_2_EDU_2_MAR_2_AGE_4', 2230.0: 'SEX_2_EDU_2_MAR_3_AGE_0', 2231.0: 'SEX_2_EDU_2_MAR_3_AGE_1', 2232.0: 'SEX_2_EDU_2_MAR_3_AGE_2', 2233.0: 'SEX_2_EDU_2_MAR_3_AGE_3', 2234.0: 'SEX_2_EDU_2_MAR_3_AGE_4', 2310.0: 'SEX_2_EDU_3_MAR_1_AGE_0', 2311.0: 'SEX_2_EDU_3_MAR_1_AGE_1', 2312.0: 'SEX_2_EDU_3_MAR_1_AGE_2', 2313.0: 'SEX_2_EDU_3_MAR_1_AGE_3', 2314.0: 'SEX_2_EDU_3_MAR_1_AGE_4', 2320.0: 'SEX_2_EDU_3_MAR_2_AGE_0', 2321.0: 'SEX_2_EDU_3_MAR_2_AGE_1', 2322.0: 'SEX_2_EDU_3_MAR_2_AGE_2', 2323.0: 'SEX_2_EDU_3_MAR_2_AGE_3', 2324.0: 'SEX_2_EDU_3_MAR_2_AGE_4', 2330.0: 'SEX_2_EDU_3_MAR_3_AGE_0', 2331.0: 'SEX_2_EDU_3_MAR_3_AGE_1', 2332.0: 'SEX_2_EDU_3_MAR_3_AGE_2', 2333.0: 'SEX_2_EDU_3_MAR_3_AGE_3', 2334.0: 'SEX_2_EDU_3_MAR_3_AGE_4', 2410.0: 'SEX_2_EDU_4_MAR_1_AGE_0', 2411.0: 'SEX_2_EDU_4_MAR_1_AGE_1', 2412.0: 'SEX_2_EDU_4_MAR_1_AGE_2', 2413.0: 'SEX_2_EDU_4_MAR_1_AGE_3', 2414.0: 'SEX_2_EDU_4_MAR_1_AGE_4', 2420.0: 'SEX_2_EDU_4_MAR_2_AGE_0', 2421.0: 'SEX_2_EDU_4_MAR_2_AGE_1', 2422.0: 'SEX_2_EDU_4_MAR_2_AGE_2', 2423.0: 'SEX_2_EDU_4_MAR_2_AGE_3', 2424.0: 'SEX_2_EDU_4_MAR_2_AGE_4', 2430.0: 'SEX_2_EDU_4_MAR_3_AGE_0', 2431.0: 'SEX_2_EDU_4_MAR_3_AGE_1', 2432.0: 'SEX_2_EDU_4_MAR_3_AGE_2', 2433.0: 'SEX_2_EDU_4_MAR_3_AGE_3', 2434.0: 'SEX_2_EDU_4_MAR_3_AGE_4'}\n"
     ]
    }
   ],
   "source": [
    "lista_values = []\n",
    "for cc,mm in zip(['SEX','EDUCATION','MARRIAGE','AGE_bins'], mascara):\n",
    "    lista_values.append([(jj)*mm for jj in np.unique(train_df[cc].values)])\n",
    "print(lista_values)\n",
    "import itertools\n",
    "lista_grupo = []\n",
    "dict_grupo = {}\n",
    "for element in itertools.product(*lista_values):\n",
    "    code_grupo = np.sum(np.asarray(element))\n",
    "    lista_grupo.append(code_grupo)\n",
    "    dict_grupo[code_grupo] = \"SEX_{0:d}_EDU_{1:d}_MAR_{2:d}_AGE_{3:d}\".format(int(element[0]/1000), \n",
    "                                                                              int(element[1]/100), \n",
    "                                                                              int(element[2]/10), \n",
    "                                                                              int(element[3]))   \n",
    "\n",
    "print(\"\")\n",
    "print(\"lista_grupo: \",lista_grupo)\n",
    "print(\"\")\n",
    "print(\"dict_grupo\",dict_grupo)"
   ]
  },
  {
   "cell_type": "markdown",
   "metadata": {
    "id": "J_2-j1zG9IGo"
   },
   "source": [
    "Escriba código que construya el argumento que se le debe pasar a la clase `OneHotEncoder` como argumento `categories` si queremos codificar *dummy encoding* las variables `GRUPO`, `PAY_0_dis`, `PAY_2_dis`, `PAY_3_dis`, `PAY_4_dis`, `PAY_5_dis` y `PAY_6_dis`. Este argumento debe ser un array de listas, donde cada elemento del array principal es la lista con todos los valores que debe tomar la categoría:\n",
    "\n",
    "`lista=[[lista_grupo],[lista_PAY_0_dis],...,[lista_PAY_6_dis]]`"
   ]
  },
  {
   "cell_type": "code",
   "execution_count": 45,
   "metadata": {
    "id": "T1kw1P8sGJ89"
   },
   "outputs": [],
   "source": [
    "cat_cols = ['GRUPO','PAY_0_dis','PAY_2_dis','PAY_3_dis','PAY_4_dis','PAY_5_dis','PAY_6_dis']\n",
    "cat_values_train = [train_df[col].unique().tolist() for col in cat_cols]\n",
    "cat_values_test = [test_df[col].unique().tolist() for col in cat_cols]"
   ]
  },
  {
   "cell_type": "code",
   "execution_count": 46,
   "metadata": {
    "id": "sqK_LjNDI68b"
   },
   "outputs": [],
   "source": [
    "lista = []\n",
    "for i in range(len(cat_cols)):\n",
    "  temp = list(set(cat_values_train[i]+cat_values_test[i]))\n",
    "  temp.sort()\n",
    "  lista.append(temp)"
   ]
  },
  {
   "cell_type": "code",
   "execution_count": 47,
   "metadata": {
    "id": "2iIZdLvcG9qs"
   },
   "outputs": [],
   "source": [
    "# Creamos el codificador OneHotEncoder\n",
    "encoder = OneHotEncoder(categories=lista, sparse=False)"
   ]
  },
  {
   "cell_type": "markdown",
   "metadata": {
    "id": "KDL5DwIS9IGo"
   },
   "source": [
    "A continuación escribid código que:\n",
    "- Obtenga numpy arrays `X_train_cat_dummy` y `X_test_cat_dummy` con la codificación *dummy* de las variables `GRUPO`, `PAY_0_dis`, `PAY_2_dis`, `PAY_3_dis`, `PAY_4_dis`, `PAY_5_dis` y `PAY_6_dis`\n",
    "- Extienda las observaciones añadiendo estos arrays a `LXtrain` y `LXtest` (no incluyáis las extensiones polinómicas). Eliminando la columna correspondiente a la variable `AGE` original.\n",
    "- Entrene un modelo de clasificación con regresión logística con las características resultantes\n",
    "- Compare el acierto de este modelo con el baseline y con los modelos anteriores\n",
    "- Pinte la curva ROC de este modelo y calcule el área bajo la curva\n",
    "- Imprima los valores de los pesos del modelo correspondiente a cada variable "
   ]
  },
  {
   "cell_type": "code",
   "execution_count": 48,
   "metadata": {
    "colab": {
     "base_uri": "https://localhost:8080/"
    },
    "id": "a644LheWHSdg",
    "outputId": "81e748b2-f40c-424f-a462-54003da7cceb"
   },
   "outputs": [],
   "source": [
    "X_train_cat_dummy_3 = encoder.fit_transform(train_df[['GRUPO','PAY_0_dis','PAY_2_dis','PAY_3_dis','PAY_4_dis','PAY_5_dis','PAY_6_dis']])\n",
    "X_test_cat_dummy_3 = encoder.fit_transform(test_df[['GRUPO','PAY_0_dis','PAY_2_dis','PAY_3_dis','PAY_4_dis','PAY_5_dis','PAY_6_dis']])"
   ]
  },
  {
   "cell_type": "code",
   "execution_count": 49,
   "metadata": {
    "id": "XjZoVjhRHShI"
   },
   "outputs": [],
   "source": [
    "LXtrain = np.append(LXtrain,X_train_cat_dummy_3,1)\n",
    "LXtest = np.append(LXtest,X_test_cat_dummy_3,1)"
   ]
  },
  {
   "cell_type": "code",
   "execution_count": 50,
   "metadata": {
    "colab": {
     "base_uri": "https://localhost:8080/",
     "height": 466
    },
    "id": "mLDiiuvBHSjj",
    "outputId": "e3100d47-b428-42bd-8f8b-70165db6d139"
   },
   "outputs": [
    {
     "name": "stdout",
     "output_type": "stream",
     "text": [
      "0.763567716888264\n"
     ]
    },
    {
     "data": {
      "image/png": "[encoded data removed]",
      "text/plain": [
       "<Figure size 432x288 with 1 Axes>"
      ]
     },
     "metadata": {
      "needs_background": "light"
     },
     "output_type": "display_data"
    }
   ],
   "source": [
    "model_lg= pipe.fit(LXtrain, y_train)\n",
    "y_predict = model_lg.predict_proba(LXtest)[:,1]\n",
    "curvaroc(y_test,y_predict)"
   ]
  },
  {
   "cell_type": "code",
   "execution_count": 51,
   "metadata": {
    "colab": {
     "base_uri": "https://localhost:8080/"
    },
    "id": "gI2y_KLV9IGo",
    "outputId": "d19da1c4-0126-47b7-c141-da170984731e",
    "scrolled": false
   },
   "outputs": [
    {
     "name": "stdout",
     "output_type": "stream",
     "text": [
      "Mejoro el score de AUC sumando las variables categoricas en dummies; aún mantiene un mejor score que el baseline\n",
      "\n",
      "peso LIMIT_BAL = 0.2210\n",
      "peso PAY_0 = 0.0870\n",
      "peso PAY_2 = 0.5397\n",
      "peso PAY_3 = 0.5466\n",
      "peso PAY_4 = 0.3003\n",
      "peso PAY_5 = 0.3544\n",
      "peso PAY_6 = 0.1595\n",
      "peso BILL_AMT1 = 0.3705\n",
      "peso BILL_AMT2 = 0.0294\n",
      "peso BILL_AMT3 = 0.0051\n",
      "peso BILL_AMT4 = 0.1570\n",
      "peso BILL_AMT5 = 0.0831\n",
      "peso BILL_AMT6 = 0.0789\n",
      "peso PAY_AMT1 = 0.0580\n",
      "peso PAY_AMT2 = 0.1661\n",
      "peso PAY_AMT3 = 0.1952\n",
      "peso PAY_AMT4 = 0.1734\n",
      "peso PAY_AMT5 = 0.0800\n",
      "peso PAY_AMT6 = 0.0315\n",
      "peso edad_0 = 0.0318\n",
      "peso edad_1 = 0.0015\n",
      "peso edad_2 = 0.0088\n",
      "peso edad_3 = 0.0101\n"
     ]
    }
   ],
   "source": [
    "print(\"Mejoro el score de AUC sumando las variables categoricas en dummies; aún mantiene un mejor score que el baseline\")\n",
    "print(\"\")\n",
    "for ii,ff in enumerate(num_var2[:]):\n",
    "    print(\"peso {0} = {1:.4f}\".format(ff,np.abs(model_lg['clfs'].coef_[[0],[ii]][0])))"
   ]
  },
  {
   "cell_type": "markdown",
   "metadata": {
    "id": "c4EJoZWX9IGo"
   },
   "source": [
    "\n",
    "\n",
    "## 3.3 Bin counting de los grupos con variables continuas y regresión logística (20%)\n",
    "\n",
    "Dado el gran número de grupos vamos a finalizar el *notebook* empleando conteos de *bins* para codificar esta variable\n",
    "\n",
    "En primer lugar escribid código que represente en el eje de las x una entrada por cada grupo y en el eje de las y el número de clientes que hay en ese grupo.\n",
    "\n",
    "¿Cuántos grupos tienen más de 100 clientes?"
   ]
  },
  {
   "cell_type": "code",
   "execution_count": 52,
   "metadata": {
    "colab": {
     "base_uri": "https://localhost:8080/"
    },
    "id": "oOtvQBaCXOml",
    "outputId": "04e30cd1-06c9-4d53-db55-c45bbd241b87"
   },
   "outputs": [
    {
     "data": {
      "text/plain": [
       "2220.0    1072\n",
       "2121.0    1045\n",
       "2213.0     846\n",
       "2212.0     789\n",
       "2120.0     757\n",
       "          ... \n",
       "1434.0       1\n",
       "2433.0       1\n",
       "1332.0       1\n",
       "1410.0       1\n",
       "2434.0       1\n",
       "Name: GRUPO, Length: 112, dtype: int64"
      ]
     },
     "execution_count": 52,
     "metadata": {},
     "output_type": "execute_result"
    }
   ],
   "source": [
    "train_df['GRUPO'].value_counts()"
   ]
  },
  {
   "cell_type": "code",
   "execution_count": 53,
   "metadata": {
    "colab": {
     "base_uri": "https://localhost:8080/"
    },
    "id": "vvHivlxnN3G2",
    "outputId": "85f45fcf-f072-45de-fbe4-13a5535ea2c4"
   },
   "outputs": [
    {
     "data": {
      "text/plain": [
       "50"
      ]
     },
     "execution_count": 53,
     "metadata": {},
     "output_type": "execute_result"
    }
   ],
   "source": [
    "train_df['GRUPO'].value_counts()[train_df['GRUPO'].value_counts() > 100].count()"
   ]
  },
  {
   "cell_type": "code",
   "execution_count": 54,
   "metadata": {
    "id": "EDubf9uU9IGp"
   },
   "outputs": [],
   "source": [
    "class bin_counter(object):\n",
    "    def __init__(self, back_off_threshold = 0):\n",
    "        self.back_off_threshold = back_off_threshold\n",
    "        self.backed_off_categories = []\n",
    "        pass\n",
    "    def fit_transform(self, x, y):\n",
    "        self.fit(x,y)\n",
    "        return self.transform(x)\n",
    "    def transform(self, x):\n",
    "        N = len(x)\n",
    "        output = np.empty((N, self.d))\n",
    "        x_categories = np.unique(x)\n",
    "        for cat in x_categories:\n",
    "            if cat not in self.code_book:\n",
    "                code = self.code_book['average']\n",
    "            elif cat in self.backed_off_categories:\n",
    "                code = self.code_book['back-off']\n",
    "            else:\n",
    "                code = self.code_book[cat]\n",
    "            posi = np.where(x==cat)[0]\n",
    "            output[posi,:] = code\n",
    "        return output\n",
    "    def fit(self, x, y):\n",
    "        self.code_book = {}\n",
    "        N = len(x)\n",
    "        y_categories = np.unique(y)\n",
    "        self.d = len(y_categories)\n",
    "        x_categories = np.unique(x)\n",
    "        num_x_categories = len(x_categories)\n",
    "        y_ohe = OneHotEncoder(sparse=False).fit_transform(y.reshape(-1,1))\n",
    "        back_off_counts = np.zeros(self.d)\n",
    "        num_back_off = 0\n",
    "        for cat in x_categories:\n",
    "            posi = np.where(x==cat)[0]\n",
    "            if len(posi) >= self.back_off_threshold:\n",
    "                code = np.mean(y_ohe[posi,:],0)\n",
    "                self.code_book[cat] = code\n",
    "            else:\n",
    "                self.backed_off_categories.append(cat)\n",
    "                back_off_counts += np.sum(y_ohe[posi,:],0)\n",
    "                num_back_off += len(posi)\n",
    "        if num_back_off > 0:\n",
    "            self.code_book['back-off']  = back_off_counts / num_back_off\n",
    "        self.code_book['average'] =  np.mean(y_ohe,0)"
   ]
  },
  {
   "cell_type": "markdown",
   "metadata": {
    "id": "yvvv04zO9IGp"
   },
   "source": [
    "Para evaluar el efecto del *leakage* vamos a en primer lugar usar el conjunto de entrenamiento que hemos empleado hasta ahora para aprender los conteos de bin y el modelo de regresión logística. Complete la parte final de este código para entrenar el modelo y medir sus prestaciones"
   ]
  },
  {
   "cell_type": "code",
   "execution_count": 55,
   "metadata": {
    "id": "BoUhB55dP5bK"
   },
   "outputs": [
    {
     "data": {
      "text/plain": [
       "[1110.0,\n",
       " 1111.0,\n",
       " 1112.0,\n",
       " 1113.0,\n",
       " 1114.0,\n",
       " 1120.0,\n",
       " 1121.0,\n",
       " 1122.0,\n",
       " 1123.0,\n",
       " 1124.0,\n",
       " 1130.0,\n",
       " 1131.0,\n",
       " 1132.0,\n",
       " 1133.0,\n",
       " 1134.0,\n",
       " 1210.0,\n",
       " 1211.0,\n",
       " 1212.0,\n",
       " 1213.0,\n",
       " 1214.0,\n",
       " 1220.0,\n",
       " 1221.0,\n",
       " 1222.0,\n",
       " 1223.0,\n",
       " 1224.0,\n",
       " 1230.0,\n",
       " 1231.0,\n",
       " 1232.0,\n",
       " 1233.0,\n",
       " 1234.0,\n",
       " 1310.0,\n",
       " 1311.0,\n",
       " 1312.0,\n",
       " 1313.0,\n",
       " 1314.0,\n",
       " 1320.0,\n",
       " 1321.0,\n",
       " 1322.0,\n",
       " 1323.0,\n",
       " 1324.0,\n",
       " 1330.0,\n",
       " 1331.0,\n",
       " 1332.0,\n",
       " 1333.0,\n",
       " 1334.0,\n",
       " 1410.0,\n",
       " 1411.0,\n",
       " 1412.0,\n",
       " 1413.0,\n",
       " 1414.0,\n",
       " 1420.0,\n",
       " 1421.0,\n",
       " 1422.0,\n",
       " 1423.0,\n",
       " 1424.0,\n",
       " 1431.0,\n",
       " 1434.0,\n",
       " 2110.0,\n",
       " 2111.0,\n",
       " 2112.0,\n",
       " 2113.0,\n",
       " 2114.0,\n",
       " 2120.0,\n",
       " 2121.0,\n",
       " 2122.0,\n",
       " 2123.0,\n",
       " 2124.0,\n",
       " 2130.0,\n",
       " 2131.0,\n",
       " 2132.0,\n",
       " 2133.0,\n",
       " 2134.0,\n",
       " 2210.0,\n",
       " 2211.0,\n",
       " 2212.0,\n",
       " 2213.0,\n",
       " 2214.0,\n",
       " 2220.0,\n",
       " 2221.0,\n",
       " 2222.0,\n",
       " 2223.0,\n",
       " 2224.0,\n",
       " 2230.0,\n",
       " 2231.0,\n",
       " 2232.0,\n",
       " 2233.0,\n",
       " 2234.0,\n",
       " 2310.0,\n",
       " 2311.0,\n",
       " 2312.0,\n",
       " 2313.0,\n",
       " 2314.0,\n",
       " 2320.0,\n",
       " 2321.0,\n",
       " 2322.0,\n",
       " 2323.0,\n",
       " 2324.0,\n",
       " 2330.0,\n",
       " 2331.0,\n",
       " 2332.0,\n",
       " 2333.0,\n",
       " 2334.0,\n",
       " 2410.0,\n",
       " 2411.0,\n",
       " 2412.0,\n",
       " 2413.0,\n",
       " 2414.0,\n",
       " 2420.0,\n",
       " 2421.0,\n",
       " 2422.0,\n",
       " 2423.0,\n",
       " 2424.0,\n",
       " 2432.0,\n",
       " 2433.0,\n",
       " 2434.0]"
      ]
     },
     "execution_count": 55,
     "metadata": {},
     "output_type": "execute_result"
    }
   ],
   "source": [
    "lista.pop(0)"
   ]
  },
  {
   "cell_type": "code",
   "execution_count": 56,
   "metadata": {
    "colab": {
     "base_uri": "https://localhost:8080/",
     "height": 591
    },
    "id": "6KFYTsyZ9IGp",
    "outputId": "0a531e95-86ba-494d-b5d5-b2c32903a974"
   },
   "outputs": [
    {
     "name": "stdout",
     "output_type": "stream",
     "text": [
      "0.7662826085376316\n"
     ]
    },
    {
     "data": {
      "image/png": "[encoded data removed]",
      "text/plain": [
       "<Figure size 432x288 with 1 Axes>"
      ]
     },
     "metadata": {
      "needs_background": "light"
     },
     "output_type": "display_data"
    }
   ],
   "source": [
    "bc_leakage = bin_counter(back_off_threshold=100)\n",
    "train_grupo_bc = bc_leakage.fit_transform(train_df['GRUPO'].values, y_train)\n",
    "test_grupo_bc = bc_leakage.transform(test_df['GRUPO'].values)\n",
    "\n",
    "encoder = OneHotEncoder(categories=lista, sparse=False)\n",
    "\n",
    "X_train_cat_dummy_4 = encoder.fit_transform(train_df[['PAY_0_dis','PAY_2_dis','PAY_3_dis','PAY_4_dis','PAY_5_dis','PAY_6_dis']])\n",
    "X_test_cat_dummy_4 = encoder.fit_transform(test_df[['PAY_0_dis','PAY_2_dis','PAY_3_dis','PAY_4_dis','PAY_5_dis','PAY_6_dis']])\n",
    "\n",
    "LXtrain = log_transform(x_train)\n",
    "LXtest = log_transform(x_test)\n",
    "X_train_e = np.append(LXtrain,X_train_cat_dummy_4,1)\n",
    "temp = train_grupo_bc[:,1]\n",
    "temp = temp.reshape(-1,1)\n",
    "X_train_e = np.append(X_train_e,temp,1)\n",
    "\n",
    "X_test_e = np.append(LXtest,X_test_cat_dummy_4,1)\n",
    "temp = test_grupo_bc[:,1]\n",
    "temp = temp.reshape(-1,1)\n",
    "X_test_e = np.append(X_test_e,temp,1)\n",
    "\n",
    "model_lg= pipe.fit(X_train_e, y_train)\n",
    "y_predict = model_lg.predict_proba(X_test_e)[:,1]\n",
    "curvaroc(y_test,y_predict)"
   ]
  },
  {
   "cell_type": "code",
   "execution_count": 57,
   "metadata": {
    "colab": {
     "base_uri": "https://localhost:8080/"
    },
    "id": "6Q3kDZrWOdRu",
    "outputId": "abc1c257-fe18-4db9-8808-8141aead263f"
   },
   "outputs": [
    {
     "data": {
      "text/plain": [
       "0.2896617527188934"
      ]
     },
     "execution_count": 57,
     "metadata": {},
     "output_type": "execute_result"
    }
   ],
   "source": [
    "np.abs(model_lg['clfs'].coef_[[0],[31]][0])"
   ]
  },
  {
   "cell_type": "markdown",
   "metadata": {
    "id": "W5ThgdpL9IGp"
   },
   "source": [
    "Ahora repetid el análisis de la celda anterior pero previamente dividiendo el conjunto de entrenamiento en dos mitades del mismo tamaño: \n",
    "- `train_bc_df` para aprender los conteos de bin y \n",
    "- `train_model_df` para entrenar el regresor logístico\n",
    "\n",
    "Comparad las prestaciones en ambos casos y evaluar el impacto del *leakage*"
   ]
  },
  {
   "cell_type": "code",
   "execution_count": 58,
   "metadata": {
    "colab": {
     "base_uri": "https://localhost:8080/"
    },
    "id": "VjaRfS3sYmno",
    "outputId": "340cb104-a8fc-4198-82aa-d4594d6405a5"
   },
   "outputs": [],
   "source": [
    "bc_leakage = bin_counter(back_off_threshold=100)\n",
    "train_df1, train_df2 = np.split(train_df, 2)\n",
    "\n",
    "train_bc_df = bc_leakage.fit_transform(train_df1['GRUPO'].values, y_train)\n",
    "train_bc_df = bc_leakage.transform(train_df['GRUPO'].values)\n",
    "train_model_df = bc_leakage.transform(train_df2['GRUPO'].values)"
   ]
  },
  {
   "cell_type": "code",
   "execution_count": 59,
   "metadata": {
    "colab": {
     "base_uri": "https://localhost:8080/"
    },
    "id": "beJWSc6ObBNJ",
    "outputId": "4e29d46b-4fc1-40b1-8c16-3d926a86f68b"
   },
   "outputs": [
    {
     "data": {
      "text/plain": [
       "24"
      ]
     },
     "execution_count": 59,
     "metadata": {},
     "output_type": "execute_result"
    }
   ],
   "source": [
    "len(X_train_cat_dummy_4[0])"
   ]
  },
  {
   "cell_type": "code",
   "execution_count": 60,
   "metadata": {
    "colab": {
     "base_uri": "https://localhost:8080/",
     "height": 35
    },
    "id": "eJWCFNV9a0Rx",
    "outputId": "21eef9c7-7957-49ca-a8e0-6940802f1ffa"
   },
   "outputs": [
    {
     "data": {
      "text/plain": [
       "'GRUPO'"
      ]
     },
     "execution_count": 60,
     "metadata": {},
     "output_type": "execute_result"
    }
   ],
   "source": [
    "train_df.columns[31]"
   ]
  },
  {
   "cell_type": "code",
   "execution_count": 61,
   "metadata": {
    "colab": {
     "base_uri": "https://localhost:8080/"
    },
    "id": "TokY7LiIZqO4",
    "outputId": "d14a5729-0235-44b3-deea-783a1a97356a"
   },
   "outputs": [
    {
     "data": {
      "text/plain": [
       "20000"
      ]
     },
     "execution_count": 61,
     "metadata": {},
     "output_type": "execute_result"
    }
   ],
   "source": [
    "len(train_bc_df)"
   ]
  },
  {
   "cell_type": "code",
   "execution_count": 62,
   "metadata": {
    "colab": {
     "base_uri": "https://localhost:8080/",
     "height": 466
    },
    "id": "HxygzK_3Ymqn",
    "outputId": "e5fb52ea-70c9-437c-902e-00c45a6b8939"
   },
   "outputs": [
    {
     "name": "stdout",
     "output_type": "stream",
     "text": [
      "0.7663160222279594\n"
     ]
    },
    {
     "data": {
      "image/png": "[encoded data removed]",
      "text/plain": [
       "<Figure size 432x288 with 1 Axes>"
      ]
     },
     "metadata": {
      "needs_background": "light"
     },
     "output_type": "display_data"
    }
   ],
   "source": [
    "LXtrain = log_transform(x_train)\n",
    "LXtest = log_transform(x_test)\n",
    "\n",
    "X_train_e = np.append(LXtrain,X_train_cat_dummy_4,1)\n",
    "temp = train_bc_df[:,1]\n",
    "temp = temp.reshape(-1,1)\n",
    "X_train_e = np.append(X_train_e,temp,1)\n",
    "\n",
    "X_test_e = np.append(LXtest,X_test_cat_dummy_4,1)\n",
    "temp = train_model_df[:,1]\n",
    "temp = temp.reshape(-1,1)\n",
    "X_test_e = np.append(X_test_e,temp,1)\n",
    "\n",
    "model_lg= pipe.fit(X_train_e, y_train)\n",
    "y_predict = model_lg.predict_proba(X_test_e)[:,1]\n",
    "curvaroc(y_test,y_predict)"
   ]
  },
  {
   "cell_type": "code",
   "execution_count": 63,
   "metadata": {
    "colab": {
     "base_uri": "https://localhost:8080/"
    },
    "id": "fCCtF_RX9IGq",
    "outputId": "1804da3b-312e-45b8-c4e9-cf870a63371e"
   },
   "outputs": [
    {
     "name": "stdout",
     "output_type": "stream",
     "text": [
      "No se encontro mucha variacion\n"
     ]
    }
   ],
   "source": [
    "print(\"No se encontro mucha variacion\")"
   ]
  },
  {
   "cell_type": "markdown",
   "metadata": {
    "id": "1VVa5Fb09IGq"
   },
   "source": [
    "### ¿Cuál es el peso de la variable `GRUPO` codificada con conteo de bin en ambos casos?\n"
   ]
  },
  {
   "cell_type": "code",
   "execution_count": 72,
   "metadata": {
    "id": "AVLB4Vkx9IGq"
   },
   "outputs": [
    {
     "name": "stdout",
     "output_type": "stream",
     "text": [
      "Mejoro el score de AUC sumando las variables categoricas en dummies; aún mantiene un mejor score que el baseline\n",
      "\n",
      "peso LIMIT_BAL = 0.1915\n",
      "peso PAY_0 = 0.0802\n",
      "peso PAY_2 = 0.5318\n",
      "peso PAY_3 = 0.5477\n",
      "peso PAY_4 = 0.3036\n",
      "peso PAY_5 = 0.3558\n",
      "peso PAY_6 = 0.1553\n",
      "peso BILL_AMT1 = 0.3659\n",
      "peso BILL_AMT2 = 0.0343\n",
      "peso BILL_AMT3 = 0.0016\n",
      "peso BILL_AMT4 = 0.1533\n",
      "peso BILL_AMT5 = 0.0795\n",
      "peso BILL_AMT6 = 0.0728\n",
      "peso PAY_AMT1 = 0.0684\n",
      "peso PAY_AMT2 = 0.1602\n",
      "peso PAY_AMT3 = 0.1894\n",
      "peso PAY_AMT4 = 0.1743\n",
      "peso PAY_AMT5 = 0.0821\n",
      "peso PAY_AMT6 = 0.0366\n",
      "peso edad_0 = 0.0306\n",
      "peso edad_1 = 0.3052\n",
      "peso edad_2 = 0.0553\n",
      "peso edad_3 = 0.3555\n"
     ]
    }
   ],
   "source": [
    "print(\"Mejoro el score de AUC sumando las variables categoricas en dummies; aún mantiene un mejor score que el baseline\")\n",
    "print(\"\")\n",
    "for ii,ff in enumerate(num_var2[:]):\n",
    "    print(\"peso {0} = {1:.4f}\".format(ff,np.abs(model_lg['clfs'].coef_[[0],[ii]][0])))"
   ]
  },
  {
   "cell_type": "code",
   "execution_count": 74,
   "metadata": {
    "colab": {
     "base_uri": "https://localhost:8080/"
    },
    "id": "ML8hmJ-4adLJ",
    "outputId": "2d608944-45a4-44b9-e28d-ddd1206a86d5"
   },
   "outputs": [
    {
     "name": "stdout",
     "output_type": "stream",
     "text": [
      "Anteriormente el peso de la variable fue de 0.28, en este caso aumento a 0.29\n"
     ]
    },
    {
     "data": {
      "text/plain": [
       "0.2900781230257369"
      ]
     },
     "execution_count": 74,
     "metadata": {},
     "output_type": "execute_result"
    }
   ],
   "source": [
    "print('Anteriormente el peso de la variable fue de 0.28, en este caso aumento a 0.29')\n",
    "np.abs(model_lg['clfs'].coef_[[0],[31]][0])"
   ]
  },
  {
   "cell_type": "markdown",
   "metadata": {
    "id": "PcWMeKF99IGq"
   },
   "source": [
    "## OPCIONAL: interpretabilidad de los grupos demográficos (5%, extra)\n",
    "\n",
    "**Este apartado es opcional: su nota se suma a la nota del proyecto, pero no es necesario para conseguir la máxima calificación.**\n",
    "\n",
    "Ordenad los grupos de acuerdo a la probabilidad de default y verificar si hay muchas diferencias entre las primeras posiciones del *ranking*, las últimas, y los valores *back-off* y *average*."
   ]
  },
  {
   "cell_type": "code",
   "execution_count": null,
   "metadata": {
    "id": "wT5zncMD9IGq"
   },
   "outputs": [],
   "source": [
    "#############\n",
    "# YOUR CODE #\n",
    "#############\n",
    "        \n",
    "#######\n",
    "# END #\n",
    "#######"
   ]
  }
 ],
 "metadata": {
  "colab": {
   "provenance": []
  },
  "kernelspec": {
   "display_name": "Python 3",
   "language": "python",
   "name": "python3"
  },
  "language_info": {
   "codemirror_mode": {
    "name": "ipython",
    "version": 3
   },
   "file_extension": ".py",
   "mimetype": "text/x-python",
   "name": "python",
   "nbconvert_exporter": "python",
   "pygments_lexer": "ipython3",
   "version": "3.8.5"
  }
 },
 "nbformat": 4,
 "nbformat_minor": 1
}
