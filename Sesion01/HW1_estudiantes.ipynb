{
 "cells": [
  {
   "cell_type": "markdown",
   "metadata": {},
   "source": [
    "# Mini Proyecto 1\n",
    "\n",
    "## Aprendizaje Automático Intermedio e Ingeniería de Características\n",
    "\n",
    "### Enero 2023\n",
    "\n",
    "**Emilio Parrado Hernández, Vanessa Gómez Verdejo, Pablo Martínez Olmos**\n",
    "\n",
    "Departamento de Teoría de la Señal y Comunicaciones\n",
    "\n",
    "**Universidad Carlos III de Madrid**\n",
    "\n",
    "<img src='http://www.tsc.uc3m.es/~emipar/BBVA/INTRO/img/logo_uc3m_foot.jpg' width=400 />"
   ]
  },
  {
   "cell_type": "markdown",
   "metadata": {},
   "source": [
    "# Carga de datos y comprensión de las variables"
   ]
  },
  {
   "cell_type": "code",
   "execution_count": 1,
   "metadata": {},
   "outputs": [],
   "source": [
    "data_sheet = 'https://archive.ics.uci.edu/ml/machine-learning-databases/00350/default%20of%20credit%20card%20clients.xls'\n",
    "import pandas as pd\n",
    "\n",
    "df = pd.read_excel(data_sheet,\n",
    "                  header=1,\n",
    "                skiprows=0,\n",
    "                  index_col=0)"
   ]
  },
  {
   "cell_type": "code",
   "execution_count": 2,
   "metadata": {},
   "outputs": [
    {
     "data": {
      "text/html": [
       "<div>\n",
       "<style scoped>\n",
       "    .dataframe tbody tr th:only-of-type {\n",
       "        vertical-align: middle;\n",
       "    }\n",
       "\n",
       "    .dataframe tbody tr th {\n",
       "        vertical-align: top;\n",
       "    }\n",
       "\n",
       "    .dataframe thead th {\n",
       "        text-align: right;\n",
       "    }\n",
       "</style>\n",
       "<table border=\"1\" class=\"dataframe\">\n",
       "  <thead>\n",
       "    <tr style=\"text-align: right;\">\n",
       "      <th></th>\n",
       "      <th>LIMIT_BAL</th>\n",
       "      <th>SEX</th>\n",
       "      <th>EDUCATION</th>\n",
       "      <th>MARRIAGE</th>\n",
       "      <th>AGE</th>\n",
       "      <th>PAY_0</th>\n",
       "      <th>PAY_2</th>\n",
       "      <th>PAY_3</th>\n",
       "      <th>PAY_4</th>\n",
       "      <th>PAY_5</th>\n",
       "      <th>...</th>\n",
       "      <th>BILL_AMT4</th>\n",
       "      <th>BILL_AMT5</th>\n",
       "      <th>BILL_AMT6</th>\n",
       "      <th>PAY_AMT1</th>\n",
       "      <th>PAY_AMT2</th>\n",
       "      <th>PAY_AMT3</th>\n",
       "      <th>PAY_AMT4</th>\n",
       "      <th>PAY_AMT5</th>\n",
       "      <th>PAY_AMT6</th>\n",
       "      <th>default payment next month</th>\n",
       "    </tr>\n",
       "    <tr>\n",
       "      <th>ID</th>\n",
       "      <th></th>\n",
       "      <th></th>\n",
       "      <th></th>\n",
       "      <th></th>\n",
       "      <th></th>\n",
       "      <th></th>\n",
       "      <th></th>\n",
       "      <th></th>\n",
       "      <th></th>\n",
       "      <th></th>\n",
       "      <th></th>\n",
       "      <th></th>\n",
       "      <th></th>\n",
       "      <th></th>\n",
       "      <th></th>\n",
       "      <th></th>\n",
       "      <th></th>\n",
       "      <th></th>\n",
       "      <th></th>\n",
       "      <th></th>\n",
       "      <th></th>\n",
       "    </tr>\n",
       "  </thead>\n",
       "  <tbody>\n",
       "    <tr>\n",
       "      <th>1</th>\n",
       "      <td>20000</td>\n",
       "      <td>2</td>\n",
       "      <td>2</td>\n",
       "      <td>1</td>\n",
       "      <td>24</td>\n",
       "      <td>2</td>\n",
       "      <td>2</td>\n",
       "      <td>-1</td>\n",
       "      <td>-1</td>\n",
       "      <td>-2</td>\n",
       "      <td>...</td>\n",
       "      <td>0</td>\n",
       "      <td>0</td>\n",
       "      <td>0</td>\n",
       "      <td>0</td>\n",
       "      <td>689</td>\n",
       "      <td>0</td>\n",
       "      <td>0</td>\n",
       "      <td>0</td>\n",
       "      <td>0</td>\n",
       "      <td>1</td>\n",
       "    </tr>\n",
       "    <tr>\n",
       "      <th>2</th>\n",
       "      <td>120000</td>\n",
       "      <td>2</td>\n",
       "      <td>2</td>\n",
       "      <td>2</td>\n",
       "      <td>26</td>\n",
       "      <td>-1</td>\n",
       "      <td>2</td>\n",
       "      <td>0</td>\n",
       "      <td>0</td>\n",
       "      <td>0</td>\n",
       "      <td>...</td>\n",
       "      <td>3272</td>\n",
       "      <td>3455</td>\n",
       "      <td>3261</td>\n",
       "      <td>0</td>\n",
       "      <td>1000</td>\n",
       "      <td>1000</td>\n",
       "      <td>1000</td>\n",
       "      <td>0</td>\n",
       "      <td>2000</td>\n",
       "      <td>1</td>\n",
       "    </tr>\n",
       "    <tr>\n",
       "      <th>3</th>\n",
       "      <td>90000</td>\n",
       "      <td>2</td>\n",
       "      <td>2</td>\n",
       "      <td>2</td>\n",
       "      <td>34</td>\n",
       "      <td>0</td>\n",
       "      <td>0</td>\n",
       "      <td>0</td>\n",
       "      <td>0</td>\n",
       "      <td>0</td>\n",
       "      <td>...</td>\n",
       "      <td>14331</td>\n",
       "      <td>14948</td>\n",
       "      <td>15549</td>\n",
       "      <td>1518</td>\n",
       "      <td>1500</td>\n",
       "      <td>1000</td>\n",
       "      <td>1000</td>\n",
       "      <td>1000</td>\n",
       "      <td>5000</td>\n",
       "      <td>0</td>\n",
       "    </tr>\n",
       "    <tr>\n",
       "      <th>4</th>\n",
       "      <td>50000</td>\n",
       "      <td>2</td>\n",
       "      <td>2</td>\n",
       "      <td>1</td>\n",
       "      <td>37</td>\n",
       "      <td>0</td>\n",
       "      <td>0</td>\n",
       "      <td>0</td>\n",
       "      <td>0</td>\n",
       "      <td>0</td>\n",
       "      <td>...</td>\n",
       "      <td>28314</td>\n",
       "      <td>28959</td>\n",
       "      <td>29547</td>\n",
       "      <td>2000</td>\n",
       "      <td>2019</td>\n",
       "      <td>1200</td>\n",
       "      <td>1100</td>\n",
       "      <td>1069</td>\n",
       "      <td>1000</td>\n",
       "      <td>0</td>\n",
       "    </tr>\n",
       "    <tr>\n",
       "      <th>5</th>\n",
       "      <td>50000</td>\n",
       "      <td>1</td>\n",
       "      <td>2</td>\n",
       "      <td>1</td>\n",
       "      <td>57</td>\n",
       "      <td>-1</td>\n",
       "      <td>0</td>\n",
       "      <td>-1</td>\n",
       "      <td>0</td>\n",
       "      <td>0</td>\n",
       "      <td>...</td>\n",
       "      <td>20940</td>\n",
       "      <td>19146</td>\n",
       "      <td>19131</td>\n",
       "      <td>2000</td>\n",
       "      <td>36681</td>\n",
       "      <td>10000</td>\n",
       "      <td>9000</td>\n",
       "      <td>689</td>\n",
       "      <td>679</td>\n",
       "      <td>0</td>\n",
       "    </tr>\n",
       "  </tbody>\n",
       "</table>\n",
       "<p>5 rows × 24 columns</p>\n",
       "</div>"
      ],
      "text/plain": [
       "    LIMIT_BAL  SEX  EDUCATION  MARRIAGE  AGE  PAY_0  PAY_2  PAY_3  PAY_4  \\\n",
       "ID                                                                         \n",
       "1       20000    2          2         1   24      2      2     -1     -1   \n",
       "2      120000    2          2         2   26     -1      2      0      0   \n",
       "3       90000    2          2         2   34      0      0      0      0   \n",
       "4       50000    2          2         1   37      0      0      0      0   \n",
       "5       50000    1          2         1   57     -1      0     -1      0   \n",
       "\n",
       "    PAY_5  ...  BILL_AMT4  BILL_AMT5  BILL_AMT6  PAY_AMT1  PAY_AMT2  PAY_AMT3  \\\n",
       "ID         ...                                                                  \n",
       "1      -2  ...          0          0          0         0       689         0   \n",
       "2       0  ...       3272       3455       3261         0      1000      1000   \n",
       "3       0  ...      14331      14948      15549      1518      1500      1000   \n",
       "4       0  ...      28314      28959      29547      2000      2019      1200   \n",
       "5       0  ...      20940      19146      19131      2000     36681     10000   \n",
       "\n",
       "    PAY_AMT4  PAY_AMT5  PAY_AMT6  default payment next month  \n",
       "ID                                                            \n",
       "1          0         0         0                           1  \n",
       "2       1000         0      2000                           1  \n",
       "3       1000      1000      5000                           0  \n",
       "4       1100      1069      1000                           0  \n",
       "5       9000       689       679                           0  \n",
       "\n",
       "[5 rows x 24 columns]"
      ]
     },
     "execution_count": 2,
     "metadata": {},
     "output_type": "execute_result"
    }
   ],
   "source": [
    "df.head()"
   ]
  },
  {
   "cell_type": "code",
   "execution_count": 3,
   "metadata": {},
   "outputs": [
    {
     "data": {
      "text/plain": [
       "Index(['LIMIT_BAL', 'SEX', 'EDUCATION', 'MARRIAGE', 'AGE', 'PAY_0', 'PAY_2',\n",
       "       'PAY_3', 'PAY_4', 'PAY_5', 'PAY_6', 'BILL_AMT1', 'BILL_AMT2',\n",
       "       'BILL_AMT3', 'BILL_AMT4', 'BILL_AMT5', 'BILL_AMT6', 'PAY_AMT1',\n",
       "       'PAY_AMT2', 'PAY_AMT3', 'PAY_AMT4', 'PAY_AMT5', 'PAY_AMT6',\n",
       "       'default payment next month'],\n",
       "      dtype='object')"
      ]
     },
     "execution_count": 3,
     "metadata": {},
     "output_type": "execute_result"
    }
   ],
   "source": [
    "df.columns"
   ]
  },
  {
   "cell_type": "markdown",
   "metadata": {},
   "source": [
    "## Descripción de las variables de entrada\n",
    "\n",
    "Esta es la descripción extraída de la web de la que se descargan los datos\n",
    "\n",
    "- This research employed a binary variable, default payment (Yes = 1, No = 0), as the response variable. \n",
    "- This study reviewed the literature and used the following 23 variables as explanatory variables:\n",
    "    - X1: Amount of the given credit (NT dollar): it includes both the individual consumer credit and his/her family (supplementary) credit.\n",
    "    - X2: Gender (1 = male; 2 = female).\n",
    "    - X3: Education (1 = graduate school; 2 = university; 3 = high school; 4 = others).\n",
    "    - X4: Marital status (1 = married; 2 = single; 3 = others).\n",
    "    - X5: Age (year).\n",
    "    - X6 - X11: History of past payment. We tracked the past monthly payment records (from April to September, 2005) as follows: X6 = the repayment status in September, 2005; X7 = the repayment status in August, 2005; . . .;X11 = the repayment status in April, 2005. The measurement scale for the repayment status is: -2=no consumption, -1=pay duly, 0=the use of revolving credit, 1=payment delay for one month, 2=payment delay for two months, … 8=payment delay for eight months, 9=payment delay for nine months and above\n",
    "    - X12-X17: Amount of bill statement (NT dollar). X12 = amount of bill statement in September, 2005; X13 = amount of bill statement in August, 2005; . . .; X17 = amount of bill statement in April, 2005.\n",
    "    - X18-X23: Amount of previous payment (NT dollar). X18 = amount paid in September, 2005; X19 = amount paid in August, 2005; . . .;X23 = amount paid in April, 2005.\n",
    "\n"
   ]
  },
  {
   "cell_type": "code",
   "execution_count": 4,
   "metadata": {},
   "outputs": [
    {
     "data": {
      "text/plain": [
       "LIMIT_BAL                     120000\n",
       "SEX                                2\n",
       "EDUCATION                          2\n",
       "MARRIAGE                           2\n",
       "AGE                               23\n",
       "PAY_0                              0\n",
       "PAY_2                              0\n",
       "PAY_3                              0\n",
       "PAY_4                              0\n",
       "PAY_5                              0\n",
       "PAY_6                              0\n",
       "BILL_AMT1                     118063\n",
       "BILL_AMT2                     120851\n",
       "BILL_AMT3                     120013\n",
       "BILL_AMT4                      77539\n",
       "BILL_AMT5                      77333\n",
       "BILL_AMT6                      79113\n",
       "PAY_AMT1                        4700\n",
       "PAY_AMT2                        3538\n",
       "PAY_AMT3                        3000\n",
       "PAY_AMT4                        3000\n",
       "PAY_AMT5                        3000\n",
       "PAY_AMT6                        5000\n",
       "default payment next month         0\n",
       "Name: 1568, dtype: int64"
      ]
     },
     "execution_count": 4,
     "metadata": {},
     "output_type": "execute_result"
    }
   ],
   "source": [
    "# imprimir un registro para ver en detalle cada campo\n",
    "df.loc[1568]"
   ]
  },
  {
   "cell_type": "markdown",
   "metadata": {},
   "source": [
    "## Limpieza de variables\n",
    "\n",
    "Algunas de las variables categóricas presentan valores que no aparecen en la descripción\n",
    "\n",
    "### Education y Marriage"
   ]
  },
  {
   "cell_type": "code",
   "execution_count": 5,
   "metadata": {},
   "outputs": [
    {
     "name": "stdout",
     "output_type": "stream",
     "text": [
      "EDUCATION\n",
      "2    14030\n",
      "1    10585\n",
      "3     4917\n",
      "5      280\n",
      "4      123\n",
      "6       51\n",
      "0       14\n",
      "Name: EDUCATION, dtype: int64\n",
      "\n",
      "MARRIAGE\n",
      "2    15964\n",
      "1    13659\n",
      "3      323\n",
      "0       54\n",
      "Name: MARRIAGE, dtype: int64\n",
      "\n"
     ]
    }
   ],
   "source": [
    "columns_cat = ['EDUCATION','MARRIAGE']\n",
    "for cc in columns_cat:\n",
    "    print(cc)\n",
    "    print(df[cc].value_counts())\n",
    "    print(\"\")"
   ]
  },
  {
   "cell_type": "markdown",
   "metadata": {},
   "source": [
    "Vemos que aparecen valores que no están en la descripción, vamos a *limpiar* estas variables agrupando del siguiente modo:\n",
    "- `EDUCATION`: pasar los valores $\\{0, 5, 6\\}$ a $4$ (`others`)\n",
    "- `MARRIAGE`: pasar el valor $0$ a $3$ (`others`)"
   ]
  },
  {
   "cell_type": "code",
   "execution_count": 6,
   "metadata": {},
   "outputs": [
    {
     "name": "stdout",
     "output_type": "stream",
     "text": [
      "EDUCATION\n",
      "2    14030\n",
      "1    10585\n",
      "3     4917\n",
      "4      468\n",
      "Name: EDUCATION, dtype: int64\n",
      "\n",
      "MARRIAGE\n",
      "2    15964\n",
      "1    13659\n",
      "3      377\n",
      "Name: MARRIAGE, dtype: int64\n",
      "\n"
     ]
    }
   ],
   "source": [
    "df.loc[:,'EDUCATION'] = df.loc[:,'EDUCATION'].apply(lambda x: 4 if x==0 else x)\n",
    "df.loc[:,'EDUCATION'] = df.loc[:,'EDUCATION'].apply(lambda x: 4 if x>=4 else x)\n",
    "df.loc[:,'MARRIAGE'] = df.loc[:,'MARRIAGE'].apply(lambda x: 3 if x==0 else x)\n",
    "for cc in columns_cat:\n",
    "    print(cc)\n",
    "    print(df[cc].value_counts())\n",
    "    print(\"\")"
   ]
  },
  {
   "cell_type": "markdown",
   "metadata": {},
   "source": [
    "### Sacar discretas de PAY_0 a PAY_6 (3%)\n",
    "\n",
    "Las variables `PAY_0` a `PAY_6` tienen una interpretación mixta entre categórica y numérica. Los valores $\\{-2, -1 ,0\\}$ pueden considerarse categóricos, mientras que los valores positivos pueden considerarse numéricos.\n",
    "\n",
    "Vamos a codificarlas de modo categórico con las siguientes categorías:\n",
    "- `PAY_X` $=-2$: no consumption\n",
    "- `PAY_X` $=-1$: pay duly  \n",
    "- `PAY_X` $=0$:  use of revolving credit\n",
    "- `PAY_X` $ >0$: payment delay\n",
    "\n",
    "Básicamente tenéis que escribir código que:\n",
    " - transforme todos los valores positivos en un solo valor, por ejemplo $1$\n",
    " - añanda columnas `PAY_X_dis` al dataframe con esos valores discretos"
   ]
  },
  {
   "cell_type": "code",
   "execution_count": 7,
   "metadata": {},
   "outputs": [],
   "source": [
    "#############\n",
    "# YOUR CODE #\n",
    "#############\n",
    "import numpy as np\n",
    "for i in np.delete(np.arange(7),1): \n",
    "        df.loc[:,'PAY_'+str(i)+'_dis'] = df.loc[:,'PAY_'+str(i)].apply(lambda x: 1 if x>0 else x)\n",
    "    \n",
    "\n",
    "#######\n",
    "# END #\n",
    "#######    "
   ]
  },
  {
   "cell_type": "code",
   "execution_count": 9,
   "metadata": {},
   "outputs": [
    {
     "data": {
      "text/html": [
       "<div>\n",
       "<style scoped>\n",
       "    .dataframe tbody tr th:only-of-type {\n",
       "        vertical-align: middle;\n",
       "    }\n",
       "\n",
       "    .dataframe tbody tr th {\n",
       "        vertical-align: top;\n",
       "    }\n",
       "\n",
       "    .dataframe thead th {\n",
       "        text-align: right;\n",
       "    }\n",
       "</style>\n",
       "<table border=\"1\" class=\"dataframe\">\n",
       "  <thead>\n",
       "    <tr style=\"text-align: right;\">\n",
       "      <th></th>\n",
       "      <th>LIMIT_BAL</th>\n",
       "      <th>SEX</th>\n",
       "      <th>EDUCATION</th>\n",
       "      <th>MARRIAGE</th>\n",
       "      <th>AGE</th>\n",
       "      <th>PAY_0</th>\n",
       "      <th>PAY_2</th>\n",
       "      <th>PAY_3</th>\n",
       "      <th>PAY_4</th>\n",
       "      <th>PAY_5</th>\n",
       "      <th>...</th>\n",
       "      <th>PAY_AMT4</th>\n",
       "      <th>PAY_AMT5</th>\n",
       "      <th>PAY_AMT6</th>\n",
       "      <th>default payment next month</th>\n",
       "      <th>PAY_0_dis</th>\n",
       "      <th>PAY_2_dis</th>\n",
       "      <th>PAY_3_dis</th>\n",
       "      <th>PAY_4_dis</th>\n",
       "      <th>PAY_5_dis</th>\n",
       "      <th>PAY_6_dis</th>\n",
       "    </tr>\n",
       "    <tr>\n",
       "      <th>ID</th>\n",
       "      <th></th>\n",
       "      <th></th>\n",
       "      <th></th>\n",
       "      <th></th>\n",
       "      <th></th>\n",
       "      <th></th>\n",
       "      <th></th>\n",
       "      <th></th>\n",
       "      <th></th>\n",
       "      <th></th>\n",
       "      <th></th>\n",
       "      <th></th>\n",
       "      <th></th>\n",
       "      <th></th>\n",
       "      <th></th>\n",
       "      <th></th>\n",
       "      <th></th>\n",
       "      <th></th>\n",
       "      <th></th>\n",
       "      <th></th>\n",
       "      <th></th>\n",
       "    </tr>\n",
       "  </thead>\n",
       "  <tbody>\n",
       "    <tr>\n",
       "      <th>1</th>\n",
       "      <td>20000</td>\n",
       "      <td>2</td>\n",
       "      <td>2</td>\n",
       "      <td>1</td>\n",
       "      <td>24</td>\n",
       "      <td>2</td>\n",
       "      <td>2</td>\n",
       "      <td>-1</td>\n",
       "      <td>-1</td>\n",
       "      <td>-2</td>\n",
       "      <td>...</td>\n",
       "      <td>0</td>\n",
       "      <td>0</td>\n",
       "      <td>0</td>\n",
       "      <td>1</td>\n",
       "      <td>1</td>\n",
       "      <td>1</td>\n",
       "      <td>-1</td>\n",
       "      <td>-1</td>\n",
       "      <td>-2</td>\n",
       "      <td>-2</td>\n",
       "    </tr>\n",
       "    <tr>\n",
       "      <th>2</th>\n",
       "      <td>120000</td>\n",
       "      <td>2</td>\n",
       "      <td>2</td>\n",
       "      <td>2</td>\n",
       "      <td>26</td>\n",
       "      <td>-1</td>\n",
       "      <td>2</td>\n",
       "      <td>0</td>\n",
       "      <td>0</td>\n",
       "      <td>0</td>\n",
       "      <td>...</td>\n",
       "      <td>1000</td>\n",
       "      <td>0</td>\n",
       "      <td>2000</td>\n",
       "      <td>1</td>\n",
       "      <td>-1</td>\n",
       "      <td>1</td>\n",
       "      <td>0</td>\n",
       "      <td>0</td>\n",
       "      <td>0</td>\n",
       "      <td>1</td>\n",
       "    </tr>\n",
       "    <tr>\n",
       "      <th>3</th>\n",
       "      <td>90000</td>\n",
       "      <td>2</td>\n",
       "      <td>2</td>\n",
       "      <td>2</td>\n",
       "      <td>34</td>\n",
       "      <td>0</td>\n",
       "      <td>0</td>\n",
       "      <td>0</td>\n",
       "      <td>0</td>\n",
       "      <td>0</td>\n",
       "      <td>...</td>\n",
       "      <td>1000</td>\n",
       "      <td>1000</td>\n",
       "      <td>5000</td>\n",
       "      <td>0</td>\n",
       "      <td>0</td>\n",
       "      <td>0</td>\n",
       "      <td>0</td>\n",
       "      <td>0</td>\n",
       "      <td>0</td>\n",
       "      <td>0</td>\n",
       "    </tr>\n",
       "    <tr>\n",
       "      <th>4</th>\n",
       "      <td>50000</td>\n",
       "      <td>2</td>\n",
       "      <td>2</td>\n",
       "      <td>1</td>\n",
       "      <td>37</td>\n",
       "      <td>0</td>\n",
       "      <td>0</td>\n",
       "      <td>0</td>\n",
       "      <td>0</td>\n",
       "      <td>0</td>\n",
       "      <td>...</td>\n",
       "      <td>1100</td>\n",
       "      <td>1069</td>\n",
       "      <td>1000</td>\n",
       "      <td>0</td>\n",
       "      <td>0</td>\n",
       "      <td>0</td>\n",
       "      <td>0</td>\n",
       "      <td>0</td>\n",
       "      <td>0</td>\n",
       "      <td>0</td>\n",
       "    </tr>\n",
       "    <tr>\n",
       "      <th>5</th>\n",
       "      <td>50000</td>\n",
       "      <td>1</td>\n",
       "      <td>2</td>\n",
       "      <td>1</td>\n",
       "      <td>57</td>\n",
       "      <td>-1</td>\n",
       "      <td>0</td>\n",
       "      <td>-1</td>\n",
       "      <td>0</td>\n",
       "      <td>0</td>\n",
       "      <td>...</td>\n",
       "      <td>9000</td>\n",
       "      <td>689</td>\n",
       "      <td>679</td>\n",
       "      <td>0</td>\n",
       "      <td>-1</td>\n",
       "      <td>0</td>\n",
       "      <td>-1</td>\n",
       "      <td>0</td>\n",
       "      <td>0</td>\n",
       "      <td>0</td>\n",
       "    </tr>\n",
       "    <tr>\n",
       "      <th>...</th>\n",
       "      <td>...</td>\n",
       "      <td>...</td>\n",
       "      <td>...</td>\n",
       "      <td>...</td>\n",
       "      <td>...</td>\n",
       "      <td>...</td>\n",
       "      <td>...</td>\n",
       "      <td>...</td>\n",
       "      <td>...</td>\n",
       "      <td>...</td>\n",
       "      <td>...</td>\n",
       "      <td>...</td>\n",
       "      <td>...</td>\n",
       "      <td>...</td>\n",
       "      <td>...</td>\n",
       "      <td>...</td>\n",
       "      <td>...</td>\n",
       "      <td>...</td>\n",
       "      <td>...</td>\n",
       "      <td>...</td>\n",
       "      <td>...</td>\n",
       "    </tr>\n",
       "    <tr>\n",
       "      <th>29996</th>\n",
       "      <td>220000</td>\n",
       "      <td>1</td>\n",
       "      <td>3</td>\n",
       "      <td>1</td>\n",
       "      <td>39</td>\n",
       "      <td>0</td>\n",
       "      <td>0</td>\n",
       "      <td>0</td>\n",
       "      <td>0</td>\n",
       "      <td>0</td>\n",
       "      <td>...</td>\n",
       "      <td>3047</td>\n",
       "      <td>5000</td>\n",
       "      <td>1000</td>\n",
       "      <td>0</td>\n",
       "      <td>0</td>\n",
       "      <td>0</td>\n",
       "      <td>0</td>\n",
       "      <td>0</td>\n",
       "      <td>0</td>\n",
       "      <td>0</td>\n",
       "    </tr>\n",
       "    <tr>\n",
       "      <th>29997</th>\n",
       "      <td>150000</td>\n",
       "      <td>1</td>\n",
       "      <td>3</td>\n",
       "      <td>2</td>\n",
       "      <td>43</td>\n",
       "      <td>-1</td>\n",
       "      <td>-1</td>\n",
       "      <td>-1</td>\n",
       "      <td>-1</td>\n",
       "      <td>0</td>\n",
       "      <td>...</td>\n",
       "      <td>129</td>\n",
       "      <td>0</td>\n",
       "      <td>0</td>\n",
       "      <td>0</td>\n",
       "      <td>-1</td>\n",
       "      <td>-1</td>\n",
       "      <td>-1</td>\n",
       "      <td>-1</td>\n",
       "      <td>0</td>\n",
       "      <td>0</td>\n",
       "    </tr>\n",
       "    <tr>\n",
       "      <th>29998</th>\n",
       "      <td>30000</td>\n",
       "      <td>1</td>\n",
       "      <td>2</td>\n",
       "      <td>2</td>\n",
       "      <td>37</td>\n",
       "      <td>4</td>\n",
       "      <td>3</td>\n",
       "      <td>2</td>\n",
       "      <td>-1</td>\n",
       "      <td>0</td>\n",
       "      <td>...</td>\n",
       "      <td>4200</td>\n",
       "      <td>2000</td>\n",
       "      <td>3100</td>\n",
       "      <td>1</td>\n",
       "      <td>1</td>\n",
       "      <td>1</td>\n",
       "      <td>1</td>\n",
       "      <td>-1</td>\n",
       "      <td>0</td>\n",
       "      <td>0</td>\n",
       "    </tr>\n",
       "    <tr>\n",
       "      <th>29999</th>\n",
       "      <td>80000</td>\n",
       "      <td>1</td>\n",
       "      <td>3</td>\n",
       "      <td>1</td>\n",
       "      <td>41</td>\n",
       "      <td>1</td>\n",
       "      <td>-1</td>\n",
       "      <td>0</td>\n",
       "      <td>0</td>\n",
       "      <td>0</td>\n",
       "      <td>...</td>\n",
       "      <td>1926</td>\n",
       "      <td>52964</td>\n",
       "      <td>1804</td>\n",
       "      <td>1</td>\n",
       "      <td>1</td>\n",
       "      <td>-1</td>\n",
       "      <td>0</td>\n",
       "      <td>0</td>\n",
       "      <td>0</td>\n",
       "      <td>-1</td>\n",
       "    </tr>\n",
       "    <tr>\n",
       "      <th>30000</th>\n",
       "      <td>50000</td>\n",
       "      <td>1</td>\n",
       "      <td>2</td>\n",
       "      <td>1</td>\n",
       "      <td>46</td>\n",
       "      <td>0</td>\n",
       "      <td>0</td>\n",
       "      <td>0</td>\n",
       "      <td>0</td>\n",
       "      <td>0</td>\n",
       "      <td>...</td>\n",
       "      <td>1000</td>\n",
       "      <td>1000</td>\n",
       "      <td>1000</td>\n",
       "      <td>1</td>\n",
       "      <td>0</td>\n",
       "      <td>0</td>\n",
       "      <td>0</td>\n",
       "      <td>0</td>\n",
       "      <td>0</td>\n",
       "      <td>0</td>\n",
       "    </tr>\n",
       "  </tbody>\n",
       "</table>\n",
       "<p>30000 rows × 30 columns</p>\n",
       "</div>"
      ],
      "text/plain": [
       "       LIMIT_BAL  SEX  EDUCATION  MARRIAGE  AGE  PAY_0  PAY_2  PAY_3  PAY_4  \\\n",
       "ID                                                                            \n",
       "1          20000    2          2         1   24      2      2     -1     -1   \n",
       "2         120000    2          2         2   26     -1      2      0      0   \n",
       "3          90000    2          2         2   34      0      0      0      0   \n",
       "4          50000    2          2         1   37      0      0      0      0   \n",
       "5          50000    1          2         1   57     -1      0     -1      0   \n",
       "...          ...  ...        ...       ...  ...    ...    ...    ...    ...   \n",
       "29996     220000    1          3         1   39      0      0      0      0   \n",
       "29997     150000    1          3         2   43     -1     -1     -1     -1   \n",
       "29998      30000    1          2         2   37      4      3      2     -1   \n",
       "29999      80000    1          3         1   41      1     -1      0      0   \n",
       "30000      50000    1          2         1   46      0      0      0      0   \n",
       "\n",
       "       PAY_5  ...  PAY_AMT4  PAY_AMT5  PAY_AMT6  default payment next month  \\\n",
       "ID            ...                                                             \n",
       "1         -2  ...         0         0         0                           1   \n",
       "2          0  ...      1000         0      2000                           1   \n",
       "3          0  ...      1000      1000      5000                           0   \n",
       "4          0  ...      1100      1069      1000                           0   \n",
       "5          0  ...      9000       689       679                           0   \n",
       "...      ...  ...       ...       ...       ...                         ...   \n",
       "29996      0  ...      3047      5000      1000                           0   \n",
       "29997      0  ...       129         0         0                           0   \n",
       "29998      0  ...      4200      2000      3100                           1   \n",
       "29999      0  ...      1926     52964      1804                           1   \n",
       "30000      0  ...      1000      1000      1000                           1   \n",
       "\n",
       "       PAY_0_dis  PAY_2_dis  PAY_3_dis  PAY_4_dis  PAY_5_dis  PAY_6_dis  \n",
       "ID                                                                       \n",
       "1              1          1         -1         -1         -2         -2  \n",
       "2             -1          1          0          0          0          1  \n",
       "3              0          0          0          0          0          0  \n",
       "4              0          0          0          0          0          0  \n",
       "5             -1          0         -1          0          0          0  \n",
       "...          ...        ...        ...        ...        ...        ...  \n",
       "29996          0          0          0          0          0          0  \n",
       "29997         -1         -1         -1         -1          0          0  \n",
       "29998          1          1          1         -1          0          0  \n",
       "29999          1         -1          0          0          0         -1  \n",
       "30000          0          0          0          0          0          0  \n",
       "\n",
       "[30000 rows x 30 columns]"
      ]
     },
     "execution_count": 9,
     "metadata": {},
     "output_type": "execute_result"
    }
   ],
   "source": [
    "df"
   ]
  },
  {
   "cell_type": "markdown",
   "metadata": {},
   "source": [
    "## Partición en entrenamiento y test (2%)\n",
    "\n",
    "Divida los datos aleatoriamente en dos dataframes con la siguiente distribución de tamaños:\n",
    "- `train_df`: Entrenamiento 20K\n",
    "- `test_df`: Test 10K"
   ]
  },
  {
   "cell_type": "code",
   "execution_count": 19,
   "metadata": {},
   "outputs": [],
   "source": [
    "#############\n",
    "# YOUR CODE #\n",
    "#############\n",
    "from sklearn.model_selection import train_test_split\n",
    "\n",
    "train_df, test_df = train_test_split(df, test_size=10000, random_state=42)\n",
    "#######\n",
    "# END #\n",
    "####### "
   ]
  },
  {
   "cell_type": "code",
   "execution_count": 41,
   "metadata": {
    "scrolled": true
   },
   "outputs": [
    {
     "name": "stdout",
     "output_type": "stream",
     "text": [
      "Train 20000 ejemplos\n",
      "Test 10000 ejemplos\n"
     ]
    }
   ],
   "source": [
    "print(\"Train {0:d} ejemplos\".format(len(train_df)))\n",
    "print(\"Test {0:d} ejemplos\".format(len(test_df)))"
   ]
  },
  {
   "cell_type": "markdown",
   "metadata": {},
   "source": [
    "## Clasificación trivial (5%)\n",
    "\n",
    "El primer paso es establecer el clasificador *baseline* contra el que vamos a comparar los resultados de los modelos que vayamos entrenando a lo largo del *notebook*.\n",
    "\n",
    "Este resultado depende de si las clases están o no desbalanceadas. **Analizad el desbalanceo en el dataframe** `train_df` y elegid el resultado del clasificador *baseline*."
   ]
  },
  {
   "cell_type": "code",
   "execution_count": 62,
   "metadata": {},
   "outputs": [
    {
     "name": "stdout",
     "output_type": "stream",
     "text": [
      "Baseline 0 : 0.71 \n"
     ]
    }
   ],
   "source": [
    "#############\n",
    "# YOUR CODE #\n",
    "#############\n",
    "perc_target = train_df['default payment next month'].sum() / train_df['default payment next month'].value_counts()\n",
    "print( \"Baseline 0 : {0:3.2f} \".format(1-perc_target[0] ))\n",
    "# Resultado del clasificador baseline = 0 \n",
    "#######\n",
    "# END #\n",
    "####### "
   ]
  },
  {
   "cell_type": "markdown",
   "metadata": {},
   "source": [
    "# 1. Regresión Logística con variables numéricas\n",
    "\n",
    "El primer modelo que vamos a construir es un clasificador basado en [**regresión logística**](https://scikit-learn.org/stable/modules/generated/sklearn.linear_model.LogisticRegression.html) sólo empleando como entradas las variables numéricas. \n",
    "\n",
    "## 1.1 Identificar variables numéricas (5%)\n",
    "Construid una lista de python llamada `num_var` con las variables numéricas (las que no son categóricas)"
   ]
  },
  {
   "cell_type": "code",
   "execution_count": 69,
   "metadata": {},
   "outputs": [
    {
     "name": "stdout",
     "output_type": "stream",
     "text": [
      "Variables numéricas\n",
      "['LIMIT_BAL', 'AGE', 'PAY_0', 'PAY_2', 'PAY_3', 'PAY_4', 'PAY_5', 'PAY_6', 'BILL_AMT1', 'BILL_AMT2', 'BILL_AMT3', 'BILL_AMT4', 'BILL_AMT5', 'BILL_AMT6', 'PAY_AMT1', 'PAY_AMT2', 'PAY_AMT3', 'PAY_AMT4', 'PAY_AMT5', 'PAY_AMT6']\n"
     ]
    }
   ],
   "source": [
    "#############\n",
    "# YOUR CODE #\n",
    "#############\n",
    "num_var = [var for var in df.columns  if len(np.unique(df[var]))>=5]\n",
    "num_var\n",
    "\n",
    "#######\n",
    "# END #\n",
    "####### \n",
    "print(\"Variables numéricas\")\n",
    "print(num_var)"
   ]
  },
  {
   "cell_type": "markdown",
   "metadata": {},
   "source": [
    "## 1.2 Construir el modelo de regresión logística solo con las variables numéricas (10%)\n",
    "\n",
    "- Usad `Pipeline` y `GridSearchCV` para introducir un escalado como preprocesado, si lo veis oportuno.\n",
    "- Usad los siguientes nombres para los numpy arrays con los que llaméis los métodos (`fit`, `sore`, `predict`,etc) del regresor logístico:\n",
    "    - `X_train`\n",
    "    - `Y_train`\n",
    "    - `X_test`\n",
    "    - `Y_test`\n",
    "- Comparad el resultado del modelo en el conjunto de test con la solución trivial\n"
   ]
  },
  {
   "cell_type": "code",
   "execution_count": 174,
   "metadata": {},
   "outputs": [
    {
     "name": "stdout",
     "output_type": "stream",
     "text": [
      "Score with the training data R^2=0.8107\n",
      "Score with the test data R^2=0.8103\n",
      "Hyperparameters choosen with cross-validation\n",
      "{'scalers': StandardScaler()}\n"
     ]
    }
   ],
   "source": [
    "#############\n",
    "# YOUR CODE #\n",
    "#############\n",
    "from sklearn.linear_model import LogisticRegression\n",
    "from sklearn.preprocessing import StandardScaler ,MinMaxScaler\n",
    "from sklearn.pipeline import Pipeline \n",
    "from sklearn.model_selection import GridSearchCV\n",
    "\n",
    "lr_pipe = Pipeline([('scalers',MinMaxScaler()),\n",
    "                   ('clfs', LogisticRegression(solver='liblinear'))])\n",
    "\n",
    "param_pipes = {'scalers' : [StandardScaler(),'passthrough']}\n",
    "grid_lr_pipe = GridSearchCV(lr_pipe, param_grid = param_pipes, cv = 5)\n",
    "\n",
    "x_train= train_df[num_var].dropna().values\n",
    "x_test= test_df[num_var].dropna().values\n",
    "y_train= train_df['default payment next month'].dropna().values\n",
    "y_test= test_df['default payment next month'].dropna().values\n",
    "\n",
    "lr_model = grid_lr_pipe.fit(x_train, y_train)\n",
    "print(\"Score with the training data R^2={0:.4f}\".format(grid_lr_pipe.score(x_train, y_train)))\n",
    "print(\"Score with the test data R^2={0:.4f}\".format(grid_lr_pipe.score(x_test, y_test)))\n",
    "print(\"Hyperparameters choosen with cross-validation\")\n",
    "print(grid_lr_pipe.best_params_)\n",
    "\n",
    "\n",
    "#######\n",
    "# END #\n",
    "#######"
   ]
  },
  {
   "cell_type": "markdown",
   "metadata": {},
   "source": [
    "## 1.3 Pintar pesos y dar interpretación (5%)\n",
    "\n",
    "Imprimid los pesos del regresor logístico con el nombre de la variable correspondiente\n",
    "\n",
    "- Peso w0: XXX.XX\n",
    "- peso Variable1: YYY.YY\n",
    "- ...\n",
    "- peso VariableM: ZZZZ.ZZZZ\n",
    "\n",
    "y comentad la relevancia de cada variable en la clasificación. Puede ser de ayuda imprimir los pesos ordenados por valor absoluto."
   ]
  },
  {
   "cell_type": "code",
   "execution_count": 219,
   "metadata": {},
   "outputs": [
    {
     "name": "stdout",
     "output_type": "stream",
     "text": [
      "peso LIMIT_BAL = 0.0846\n",
      "peso AGE = 0.0908\n",
      "peso PAY_0 = 0.6498\n",
      "peso PAY_2 = 0.1062\n",
      "peso PAY_3 = 0.0969\n",
      "peso PAY_4 = 0.0399\n",
      "peso PAY_5 = 0.0132\n",
      "peso PAY_6 = 0.0286\n",
      "peso BILL_AMT1 = 0.3947\n",
      "peso BILL_AMT2 = 0.1414\n",
      "peso BILL_AMT3 = 0.1385\n",
      "peso BILL_AMT4 = 0.0108\n",
      "peso BILL_AMT5 = 0.0282\n",
      "peso BILL_AMT6 = 0.0184\n",
      "peso PAY_AMT1 = 0.1665\n",
      "peso PAY_AMT2 = 0.2552\n",
      "peso PAY_AMT3 = 0.0502\n",
      "peso PAY_AMT4 = 0.0288\n",
      "peso PAY_AMT5 = 0.0430\n",
      "La variable más relevante en el modelo de regresión logística es el primer registro de pagos pasados  \n"
     ]
    }
   ],
   "source": [
    "#############\n",
    "# YOUR CODE #\n",
    "#############\n",
    "scaler = StandardScaler()\n",
    "clfs =  LogisticRegression(solver='liblinear')\n",
    "\n",
    "pipe = Pipeline(steps=[(\"scaler\", scaler), (\"clfs\", clfs)]).fit(x_train, y_train)\n",
    "pipe.score(x_test, y_test)\n",
    "\n",
    "for ii,ff in enumerate(num_var[:-1]):\n",
    "    print(\"peso {0} = {1:.4f}\".format(ff,np.abs(pipe['clfs'].coef_[[0],[ii]][0])))\n",
    "    \n",
    "print(\"La variable más relevante en el modelo de regresión logística es el primer registro de pagos pasados  \")\n",
    "#######\n",
    "# END #\n",
    "#######"
   ]
  },
  {
   "cell_type": "markdown",
   "metadata": {},
   "source": [
    "## 1.4 Curva ROC (10%)\n",
    "\n",
    "Dibujar la [curva ROC](https://scikit-learn.org/stable/modules/generated/sklearn.metrics.roc_curve.html) del clasificador anterior y calcular el [área bajo la curva](https://scikit-learn.org/stable/modules/generated/sklearn.metrics.roc_auc_score.html). Usad el conjunto de test para este apartado."
   ]
  },
  {
   "cell_type": "code",
   "execution_count": 220,
   "metadata": {},
   "outputs": [
    {
     "data": {
      "image/png": "[encoded data removed]",
      "text/plain": [
       "<Figure size 432x288 with 1 Axes>"
      ]
     },
     "metadata": {
      "needs_background": "light"
     },
     "output_type": "display_data"
    }
   ],
   "source": [
    "#############\n",
    "# YOUR CODE #\n",
    "#############\n",
    "import matplotlib.pyplot as plt\n",
    "from sklearn import metrics\n",
    "from sklearn.metrics import roc_auc_score\n",
    "model= pipe.fit(x_train, y_train)\n",
    "fpr, tpr, thresholds = metrics.roc_curve(y_test, model.predict_proba(x_test)[:,1])\n",
    "roc= roc_auc_score(y_test, model.predict_proba(x_test)[:,1])\n",
    "display = metrics.RocCurveDisplay(fpr=fpr, tpr=tpr, roc_auc=roc,\n",
    "                                   estimator_name='estimator')\n",
    "display.plot()\n",
    "plt.show()\n",
    "#######\n",
    "# END #\n",
    "#######"
   ]
  },
  {
   "cell_type": "markdown",
   "metadata": {},
   "source": [
    "## 1.5 Transformación logarítmica de las variables numéricas y comparar (5%)\n",
    "\n",
    "Para controlar el impacto de los rangos de las variables numéricas vamos a emplear una transformación logarítmica. Como hay valores que pueden ser negativos, y el logaritmo sólo está definido para valores positivos, vamos a extender la transformación de modo que:\n",
    "$$\n",
    "y(x) = \\mbox{signo}(x) \\log_{10}(x)\n",
    "$$\n",
    "\n",
    "Escriba código que:\n",
    "- Aplique la siguiente función para hacer la transformación de los numpy arrays `X_train` y `X_test` en `LXtrain` y `LXtest`.\n",
    "- Entrene un modelo de regresión logística con las variables transformadas\n",
    "- Compare el acierto de este modelo con el baseline y con el modelo anterior\n",
    "- Pinte la curva ROC de este modelo y calcule el área bajo la curva\n",
    "- Imprima los valores de los pesos del modelo correspondiente a cada variable \n",
    "\n",
    "Discuta las diferencias entre este modelo y el anterior"
   ]
  },
  {
   "cell_type": "code",
   "execution_count": 166,
   "metadata": {},
   "outputs": [],
   "source": [
    "def log_transform(x):\n",
    "    negativos = x <0\n",
    "    ceros = x == 0\n",
    "    ax = np.absolute(x)\n",
    "    ax[ceros] = 1\n",
    "    Lx = np.log10(ax)\n",
    "    Lx[negativos] = -Lx[negativos]\n",
    "    Lx[ceros] = 0\n",
    "    return Lx"
   ]
  },
  {
   "cell_type": "code",
   "execution_count": 223,
   "metadata": {},
   "outputs": [
    {
     "name": "stdout",
     "output_type": "stream",
     "text": [
      "0.7579688134200635\n"
     ]
    },
    {
     "data": {
      "image/png": "[encoded data removed]",
      "text/plain": [
       "<Figure size 432x288 with 1 Axes>"
      ]
     },
     "metadata": {
      "needs_background": "light"
     },
     "output_type": "display_data"
    },
    {
     "name": "stdout",
     "output_type": "stream",
     "text": [
      "Ha mejorado el score ROC al usar los valores logaritmos de los features comparado al modelo anterior y al baseline\n",
      "\n",
      "peso LIMIT_BAL = 0.1579\n",
      "peso AGE = 0.0892\n",
      "peso PAY_0 = 0.6217\n",
      "peso PAY_2 = 0.0506\n",
      "peso PAY_3 = 0.0393\n",
      "peso PAY_4 = 0.0269\n",
      "peso PAY_5 = 0.0822\n",
      "peso PAY_6 = 0.0926\n",
      "peso BILL_AMT1 = 0.2055\n",
      "peso BILL_AMT2 = 0.0979\n",
      "peso BILL_AMT3 = 0.1992\n",
      "peso BILL_AMT4 = 0.0853\n",
      "peso BILL_AMT5 = 0.0813\n",
      "peso BILL_AMT6 = 0.1350\n",
      "peso PAY_AMT1 = 0.2818\n",
      "peso PAY_AMT2 = 0.2487\n",
      "peso PAY_AMT3 = 0.2085\n",
      "peso PAY_AMT4 = 0.1024\n",
      "peso PAY_AMT5 = 0.1021\n"
     ]
    }
   ],
   "source": [
    "#############\n",
    "# YOUR CODE #\n",
    "#############\n",
    "LXtrain = log_transform(x_train)\n",
    "LXtest = log_transform(x_test)\n",
    "\n",
    "model_lg= pipe.fit(LXtrain, y_train)\n",
    "fpr, tpr, thresholds = metrics.roc_curve(y_test, model_lg.predict_proba(LXtest)[:,1])\n",
    "roc= roc_auc_score(y_test, model.predict_proba(LXtest)[:,1])\n",
    "print(roc)\n",
    "display = metrics.RocCurveDisplay(fpr=fpr, tpr=tpr, roc_auc=roc,\n",
    "                                   estimator_name='estimator')\n",
    "display.plot()\n",
    "plt.show()\n",
    "\n",
    "print(\"Ha mejorado el score ROC al usar los valores logaritmos de los features comparado al modelo anterior y al baseline\")\n",
    "print(\"\")\n",
    "for ii,ff in enumerate(num_var[:-1]):\n",
    "    print(\"peso {0} = {1:.4f}\".format(ff,np.abs(model_lg['clfs'].coef_[[0],[ii]][0])))\n",
    "\n",
    "#######\n",
    "# END #\n",
    "#######"
   ]
  },
  {
   "cell_type": "markdown",
   "metadata": {},
   "source": [
    "\n",
    "\n",
    "\n",
    "## 1.6 Combinaciones de variables numéricas, extensión polinómica y de ratios (5%)\n",
    "\n",
    "Para completar el análisis de las variables numéricas vamos a extender las mismas con combinaciones de variables. \n",
    "\n",
    "Escriba código que:\n",
    "- Extienda las variables en los arrays `LXtrain` y `LXtest` a combinaciones de grado 2, y con variables sin repetir (es decir, con el argumento `interaction_only=True`).\n",
    "- Entrena un modelo de clasificación con regresión logística con las características resultantes\n",
    "- Compare el acierto de este modelo con el baseline y con los modelos anteriores\n",
    "- Pinte la curva ROC de este modelo y calcule el área bajo la curva\n",
    "- Imprima los valores de los pesos del modelo correspondiente a cada variable \n",
    "\n",
    "Discuta las diferencias entre este modelo y los anteriores"
   ]
  },
  {
   "cell_type": "code",
   "execution_count": 226,
   "metadata": {
    "scrolled": false
   },
   "outputs": [
    {
     "name": "stdout",
     "output_type": "stream",
     "text": [
      "0.7603340923516884\n"
     ]
    },
    {
     "data": {
      "image/png": "[encoded data removed]",
      "text/plain": [
       "<Figure size 432x288 with 1 Axes>"
      ]
     },
     "metadata": {
      "needs_background": "light"
     },
     "output_type": "display_data"
    },
    {
     "name": "stdout",
     "output_type": "stream",
     "text": [
      "\n",
      "peso LIMIT_BAL = 0.4112\n",
      "peso AGE = 0.0138\n",
      "peso PAY_0 = 0.5110\n",
      "peso PAY_2 = 0.3765\n",
      "peso PAY_3 = 0.0598\n",
      "peso PAY_4 = 0.0365\n",
      "peso PAY_5 = 0.0223\n",
      "peso PAY_6 = 0.0587\n",
      "peso BILL_AMT1 = 0.3029\n",
      "peso BILL_AMT2 = 0.8835\n",
      "peso BILL_AMT3 = 0.2581\n",
      "peso BILL_AMT4 = 0.0345\n",
      "peso BILL_AMT5 = 0.4207\n",
      "peso BILL_AMT6 = 0.1361\n",
      "peso PAY_AMT1 = 0.1298\n",
      "peso PAY_AMT2 = 0.0201\n",
      "peso PAY_AMT3 = 0.1155\n",
      "peso PAY_AMT4 = 0.0612\n",
      "peso PAY_AMT5 = 0.5166\n",
      "\n",
      "Ha mejorado el score ROC al usar los valores logaritmos de los features comparado al modelo anterior y al baseline.Ahora la variable más relevante es el pago AMT2 a diferencia del modelo anterior\n"
     ]
    }
   ],
   "source": [
    "#############\n",
    "# YOUR CODE #\n",
    "#############\n",
    "from sklearn.preprocessing import PolynomialFeatures\n",
    "poly = PolynomialFeatures(interaction_only=True, \n",
    "                          degree=2,\n",
    "                         include_bias=False)\n",
    "X_train_e = poly.fit_transform(LXtrain)\n",
    "X_test_e = poly.transform(LXtest)\n",
    "\n",
    "model_lg1= pipe.fit(X_train_e, y_train)\n",
    "fpr, tpr, thresholds = metrics.roc_curve(y_test, model_lg.predict_proba(X_test_e)[:,1])\n",
    "roc= roc_auc_score(y_test, model_lg1.predict_proba(X_test_e)[:,1])\n",
    "print(roc)\n",
    "display = metrics.RocCurveDisplay(fpr=fpr, tpr=tpr, roc_auc=roc,\n",
    "                                   estimator_name='estimator')\n",
    "display.plot()\n",
    "plt.show()\n",
    "\n",
    "print(\"\")\n",
    "for ii,ff in enumerate(num_var[:-1]):\n",
    "    print(\"peso {0} = {1:.4f}\".format(ff,np.abs(model_lg1['clfs'].coef_[[0],[ii]][0])))\n",
    "print(\"\")\n",
    "print(\"Ha mejorado el score ROC al usar los valores logaritmos de los features comparado al modelo anterior y al baseline.\" \n",
    "      \"Ahora la variable más relevante es el pago AMT2 a diferencia del modelo anterior\")\n",
    "#######\n",
    "# END #\n",
    "#######"
   ]
  },
  {
   "cell_type": "markdown",
   "metadata": {},
   "source": [
    "# 2. Añadir variables categóricas con dummy encodings \n",
    "\n",
    "En la siguiente sección vamos a enriquecer los modelos añadiendo variables categóricas\n",
    "\n"
   ]
  },
  {
   "cell_type": "markdown",
   "metadata": {},
   "source": [
    "## 2.1 Discretizar edad en 5 bins (10%)\n",
    "\n",
    "Vamos a comenzar discretizando la edad en 5 *bins*. Escriba código que\n",
    "- Discretice la variable `AGE` en 5 *bins* con aproximadamente el mismo número de clientes en cada bin, incluyendo una columna llamada 'AGE_bins' en los dataframes `train_df` y `test_df` con los números de *bin* correspondiente\n",
    "- Obtenga numpy arrays `X_train_cat_dummy` y `X_test_cat_dummy` con la codificación *dummy* de las variable `AGE_bins`\n",
    "- Extienda las observaciones añadiendo estos arrays a `LXtrain` y `LXtest` (no incluyáis las extensiones polinómicas). Eliminando la columna correspondiente a la variable `AGE`original.\n",
    "- Entrene un modelo de clasificación con regresión logística con las características resultantes\n",
    "- Compare el acierto de este modelo con el baseline y con los modelos anteriores\n",
    "- Pinte la curva ROC de este modelo y calcule el área bajo la curva\n",
    "- Imprima los valores de los pesos del modelo correspondiente a cada variable \n"
   ]
  },
  {
   "cell_type": "code",
   "execution_count": null,
   "metadata": {},
   "outputs": [],
   "source": [
    "#############\n",
    "# YOUR CODE #\n",
    "#############\n",
    "\n",
    "#######\n",
    "# END #\n",
    "#######"
   ]
  },
  {
   "cell_type": "markdown",
   "metadata": {},
   "source": [
    "## 2.2 Añadir más variables categóricas: variables PAY_0 a PAY_6 e info sociodemográfica (10%)\n",
    "\n",
    "A continuación  vamos a añadir al modelo las variables que describen el histórico de los usos del crédito y de los retrasos en el pago y las variables `SEX`,`EDUCATION`, `MARRIAGE` y `AGE_bins` codificadas con *dummy encoding*.\n",
    ". Escriba código que: \n",
    "- Obtenga numpy arrays `X_train_cat_dummy` y `X_test_cat_dummy` con la codificación *dummy* de las variables `SEX`,`EDUCATION`,`MARRIAGE`, `PAY_0_dis`, `PAY_2_dis`, `PAY_3_dis`, `PAY_4_dis`, `PAY_5_dis` y `PAY_6_dis`\n",
    "- Extienda las observaciones añadiendo estos arrays a `LXtrain` y `LXtest` (no incluyáis las extensiones polinómicas). Eliminando la columna correspondiente a la variable `AGE`original.\n",
    "- Entrene un modelo de clasificación con regresión logística con las características resultantes\n",
    "- Compare el acierto de este modelo con el baseline y con los modelos anteriores\n",
    "- Pinte la curva ROC de este modelo y calcule el área bajo la curva\n",
    "- Imprima los valores de los pesos del modelo correspondiente a cada variable \n"
   ]
  },
  {
   "cell_type": "code",
   "execution_count": null,
   "metadata": {},
   "outputs": [],
   "source": [
    "#############\n",
    "# YOUR CODE #\n",
    "#############\n",
    "\n",
    "#######\n",
    "# END #\n",
    "#######"
   ]
  },
  {
   "cell_type": "markdown",
   "metadata": {},
   "source": [
    "## 2.4 OPCIONAL: métodos no lineales (10%, extra)\n",
    "\n",
    "**Este apartado es opcional: su nota se suma a la nota del proyecto, pero no es necesario para conseguir la máxima calificación.**\n",
    "\n",
    "Podemos cambiar la tecnología de clasificación por si acaso el modelo que mejor se ajuste a nuestros datos fuese no lineal. \n",
    "\n",
    "Escribid código que evalúe modelos construidos con $k$ vecinos más próximos. Emplead como juegos de características los del apartado anterior. Explorad el rango de vecinos entre 1 y 101 (no hace falta que probéis todos los valores, que la base de datos no es pequeña)\n",
    "\n",
    "Alternativamente podéis emplear [*Random Forest*](https://scikit-learn.org/stable/modules/generated/sklearn.ensemble.RandomForestClassifier.html) explorando estos rangos de parámetros:\n",
    "- `n_estimators` \n",
    "- `max_leaf_nodes` o `max_depth`"
   ]
  },
  {
   "cell_type": "code",
   "execution_count": null,
   "metadata": {},
   "outputs": [],
   "source": [
    "#############\n",
    "# YOUR CODE #\n",
    "#############\n",
    "\n",
    "#######\n",
    "# END #\n",
    "#######"
   ]
  },
  {
   "cell_type": "markdown",
   "metadata": {},
   "source": [
    "# 3. Estudio de grupos demográficos\n",
    "\n",
    "En la última sección vamos a intentar mejorar la interpretabilidad de los modelos mediante la creción de unas variables que segmenten los clientes atendiendo a criterios sociodemográficos.\n",
    "\n",
    "En primer lugar vamos a definir los segmentos de clientes definidos por las variables `SEX`,`EDUCATION`,`MARRIAGE`,`AGE_bins`. Primero vamos a agrupar estas variables en una única variable categórica `GRUPO` que tomará distintos valores enteros en función de las combinaciones de estas variables.\n",
    "\n",
    "El siguiente código es una manera de conseguir esto. Básicamente cada grupo se codifica con un entero que resulta de sumar los siquientes valores:\n",
    "\n",
    "$$\n",
    "\\mbox{GRUPO}(x) = 1000 \\times x[\\mbox{'SEX'}] + 100 \\times x[\\mbox{'EDUCATION'}] + 10 \\times x[\\mbox{'MARRIAGE'}] + x[\\mbox{'AGE_bins'}] \n",
    "$$\n",
    "\n"
   ]
  },
  {
   "cell_type": "code",
   "execution_count": null,
   "metadata": {},
   "outputs": [],
   "source": [
    "columns_cat = ['SEX','EDUCATION','MARRIAGE','AGE_bins']\n",
    "mascara = np.array([1000, 100, 10, 1])\n",
    "train_df.loc[:,'GRUPO'] = (train_df.loc[:,columns_cat].values).dot(mascara)\n",
    "test_df.loc[:,'GRUPO']= (test_df.loc[:,columns_cat].values).dot(mascara)\n"
   ]
  },
  {
   "cell_type": "markdown",
   "metadata": {},
   "source": [
    "## 3.1 Grupos con dummy encoding y variables continuas (10%)\n",
    "\n",
    "La primera aproximación consiste en codificar *dummy encoding* la variable grupo. En este caso hay que pasarle al objeto `OneHotEncoder` un listado con las categorías que hay en cada característica porque puede que algún grupo minoritario aparezca en el conjunto de test pero no en el de entrenamiento, por lo que el codificador no va a ser capaz de aprender todos los valores de esa característica solo mirando el conjunto de entrenamiento.\n",
    "\n",
    "El siguiente código se encarga de hacer esto mismo. La salida de este código son dos variables a tener en cuenta:\n",
    "- `lista_grupo`: lista de python con todos los valores que puede tomar la variable `GRUPO`\n",
    "- `dict_grupo`: diccionario de python donde cada valor que puede tomar la variable `GRUPO` se empareja con una cadena de caracteres que describe el segmento de clientes que codifica este valor\n",
    "\n"
   ]
  },
  {
   "cell_type": "code",
   "execution_count": null,
   "metadata": {},
   "outputs": [],
   "source": [
    "lista_values = []\n",
    "for cc,mm in zip(['SEX','EDUCATION','MARRIAGE','AGE_bins'], mascara):\n",
    "    lista_values.append([(jj)*mm for jj in np.unique(train_df[cc].values)])\n",
    "print(lista_values)\n",
    "import itertools\n",
    "lista_grupo = []\n",
    "dict_grupo = {}\n",
    "for element in itertools.product(*lista_values):\n",
    "    code_grupo = np.sum(np.asarray(element))\n",
    "    lista_grupo.append(code_grupo)\n",
    "    dict_grupo[code_grupo] = \"SEX_{0:d}_EDU_{1:d}_MAR_{2:d}_AGE_{3:d}\".format(int(element[0]/1000), \n",
    "                                                                              int(element[1]/100), \n",
    "                                                                              int(element[2]/10), \n",
    "                                                                              int(element[3]))   \n",
    "\n",
    "print(\"\")\n",
    "print(\"lista_grupo: \",lista_grupo)\n",
    "print(\"\")\n",
    "print(\"dict_grupo\",dict_grupo)"
   ]
  },
  {
   "cell_type": "markdown",
   "metadata": {},
   "source": [
    "Escriba código que construya el argumento que se le debe pasar a la clase `OneHotEncoder` como argumento `categories` si queremos codificar *dummy encoding* las variables `GRUPO`, `PAY_0_dis`, `PAY_2_dis`, `PAY_3_dis`, `PAY_4_dis`, `PAY_5_dis` y `PAY_6_dis`. Este argumento debe ser un array de listas, donde cada elemento del array principal es la lista con todos los valores que debe tomar la categoría:\n",
    "\n",
    "`lista=[[lista_grupo],[lista_PAY_0_dis],...,[lista_PAY_6_dis]]`"
   ]
  },
  {
   "cell_type": "code",
   "execution_count": null,
   "metadata": {},
   "outputs": [],
   "source": [
    "#############\n",
    "# YOUR CODE #\n",
    "#############\n",
    "\n",
    "\n",
    "#######\n",
    "# END #\n",
    "#######"
   ]
  },
  {
   "cell_type": "markdown",
   "metadata": {},
   "source": [
    "A continuación escribid código que:\n",
    "- Obtenga numpy arrays `X_train_cat_dummy` y `X_test_cat_dummy` con la codificación *dummy* de las variables `GRUPO`, `PAY_0_dis`, `PAY_2_dis`, `PAY_3_dis`, `PAY_4_dis`, `PAY_5_dis` y `PAY_6_dis`\n",
    "- Extienda las observaciones añadiendo estos arrays a `LXtrain` y `LXtest` (no incluyáis las extensiones polinómicas). Eliminando la columna correspondiente a la variable `AGE` original.\n",
    "- Entrene un modelo de clasificación con regresión logística con las características resultantes\n",
    "- Compare el acierto de este modelo con el baseline y con los modelos anteriores\n",
    "- Pinte la curva ROC de este modelo y calcule el área bajo la curva\n",
    "- Imprima los valores de los pesos del modelo correspondiente a cada variable "
   ]
  },
  {
   "cell_type": "code",
   "execution_count": null,
   "metadata": {
    "scrolled": false
   },
   "outputs": [],
   "source": [
    "#############\n",
    "# YOUR CODE #\n",
    "#############\n",
    "\n",
    "#######\n",
    "# END #\n",
    "#######\n",
    "\n"
   ]
  },
  {
   "cell_type": "markdown",
   "metadata": {},
   "source": [
    "\n",
    "\n",
    "## 3.3 Bin counting de los grupos con variables continuas y regresión logística (20%)\n",
    "\n",
    "Dado el gran número de grupos vamos a finalizar el *notebook* empleando conteos de *bins* para codificar esta variable\n",
    "\n",
    "En primer lugar escribid código que represente en el eje de las x una entrada por cada grupo y en el eje de las y el número de clientes que hay en ese grupo.\n",
    "\n",
    "¿Cuántos grupos tienen más de 100 clientes?"
   ]
  },
  {
   "cell_type": "code",
   "execution_count": null,
   "metadata": {},
   "outputs": [],
   "source": [
    "#############\n",
    "# YOUR CODE #\n",
    "#############\n",
    "\n",
    "#######\n",
    "# END #\n",
    "#######"
   ]
  },
  {
   "cell_type": "code",
   "execution_count": null,
   "metadata": {},
   "outputs": [],
   "source": [
    "class bin_counter(object):\n",
    "    def __init__(self, back_off_threshold = 0):\n",
    "        self.back_off_threshold = back_off_threshold\n",
    "        self.backed_off_categories = []\n",
    "        pass\n",
    "    def fit_transform(self, x, y):\n",
    "        self.fit(x,y)\n",
    "        return self.transform(x)\n",
    "    def transform(self, x):\n",
    "        N = len(x)\n",
    "        output = np.empty((N, self.d))\n",
    "        x_categories = np.unique(x)\n",
    "        for cat in x_categories:\n",
    "            if cat not in self.code_book:\n",
    "                code = self.code_book['average']\n",
    "            elif cat in self.backed_off_categories:\n",
    "                code = self.code_book['back-off']\n",
    "            else:\n",
    "                code = self.code_book[cat]\n",
    "            posi = np.where(x==cat)[0]\n",
    "            output[posi,:] = code\n",
    "        return output\n",
    "    def fit(self, x, y):\n",
    "        self.code_book = {}\n",
    "        N = len(x)\n",
    "        y_categories = np.unique(y)\n",
    "        self.d = len(y_categories)\n",
    "        x_categories = np.unique(x)\n",
    "        num_x_categories = len(x_categories)\n",
    "        y_ohe = OneHotEncoder(sparse=False).fit_transform(y.reshape(-1,1))\n",
    "        back_off_counts = np.zeros(self.d)\n",
    "        num_back_off = 0\n",
    "        for cat in x_categories:\n",
    "            posi = np.where(x==cat)[0]\n",
    "            if len(posi) >= self.back_off_threshold:\n",
    "                code = np.mean(y_ohe[posi,:],0)\n",
    "                self.code_book[cat] = code\n",
    "            else:\n",
    "                self.backed_off_categories.append(cat)\n",
    "                back_off_counts += np.sum(y_ohe[posi,:],0)\n",
    "                num_back_off += len(posi)\n",
    "        if num_back_off > 0:\n",
    "            self.code_book['back-off']  = back_off_counts / num_back_off\n",
    "        self.code_book['average'] =  np.mean(y_ohe,0)"
   ]
  },
  {
   "cell_type": "markdown",
   "metadata": {},
   "source": [
    "Para evaluar el efecto del *leakage* vamos a en primer lugar usar el conjunto de entrenamiento que hemos empleado hasta ahora para aprender los conteos de bin y el modelo de regresión logística. Complete la parte final de este código para entrenar el modelo y medir sus prestaciones"
   ]
  },
  {
   "cell_type": "code",
   "execution_count": null,
   "metadata": {},
   "outputs": [],
   "source": [
    "bc_leakage = bin_counter(back_off_threshold=100)\n",
    "train_grupo_bc = bc_leakage.fit_transform(train_df['GRUPO'].values, Y_train)\n",
    "test_grupo_bc = bc_leakage.transform(test_df['GRUPO'].values)\n",
    "\n",
    "\n",
    "\"\"\"\n",
    "- Codifica dummy encoding las variables PAY_0_dis', 'PAY_2_dis',\n",
    "       'PAY_3_dis', 'PAY_4_dis', 'PAY_5_dis', 'PAY_6_dis'\n",
    "- genera X_train_e  apilando las columnas de LXtrain, X_train_cat_dummy y train_df_bc[:,1]\n",
    "- genera X_test_e análogamente\n",
    "- entrena el modelo de regresión logística con X_train_e\n",
    "- evalúa el modelo (acierto en entrenamiento, acierto en test y area bajo la curva ROC)\n",
    "\"\"\"\n",
    "#############\n",
    "# YOUR CODE #\n",
    "#############\n",
    "\n",
    "#######\n",
    "# END #\n",
    "#######"
   ]
  },
  {
   "cell_type": "markdown",
   "metadata": {},
   "source": [
    "Ahora repetid el análisis de la celda anterior pero previamente dividiendo el conjunto de entrenamiento en dos mitades del mismo tamaño: \n",
    "- `train_bc_df` para aprender los conteos de bin y \n",
    "- `train_model_df` para entrenar el regresor logístico\n",
    "\n",
    "Comparad las prestaciones en ambos casos y evaluar el impacto del *leakage*"
   ]
  },
  {
   "cell_type": "code",
   "execution_count": null,
   "metadata": {},
   "outputs": [],
   "source": [
    "#############\n",
    "# YOUR CODE #\n",
    "#############\n",
    "\n",
    "#######\n",
    "# END #\n",
    "#######"
   ]
  },
  {
   "cell_type": "code",
   "execution_count": null,
   "metadata": {},
   "outputs": [],
   "source": []
  },
  {
   "cell_type": "markdown",
   "metadata": {},
   "source": [
    "### ¿Cuál es el peso de la variable `GRUPO` codificada con conteo de bin en ambos casos?\n"
   ]
  },
  {
   "cell_type": "code",
   "execution_count": null,
   "metadata": {},
   "outputs": [],
   "source": [
    "#############\n",
    "# YOUR CODE #\n",
    "#############\n",
    "\n",
    "\n",
    "#######\n",
    "# END #\n",
    "#######"
   ]
  },
  {
   "cell_type": "markdown",
   "metadata": {},
   "source": [
    "## OPCIONAL: interpretabilidad de los grupos demográficos (5%, extra)\n",
    "\n",
    "**Este apartado es opcional: su nota se suma a la nota del proyecto, pero no es necesario para conseguir la máxima calificación.**\n",
    "\n",
    "Ordenad los grupos de acuerdo a la probabilidad de default y verificar si hay muchas diferencias entre las primeras posiciones del *ranking*, las últimas, y los valores *back-off* y *average*."
   ]
  },
  {
   "cell_type": "code",
   "execution_count": null,
   "metadata": {},
   "outputs": [],
   "source": [
    "#############\n",
    "# YOUR CODE #\n",
    "#############\n",
    "        \n",
    "#######\n",
    "# END #\n",
    "#######"
   ]
  },
  {
   "cell_type": "code",
   "execution_count": null,
   "metadata": {},
   "outputs": [],
   "source": []
  },
  {
   "cell_type": "code",
   "execution_count": null,
   "metadata": {},
   "outputs": [],
   "source": []
  },
  {
   "cell_type": "code",
   "execution_count": null,
   "metadata": {},
   "outputs": [],
   "source": []
  },
  {
   "cell_type": "code",
   "execution_count": null,
   "metadata": {},
   "outputs": [],
   "source": []
  },
  {
   "cell_type": "code",
   "execution_count": null,
   "metadata": {},
   "outputs": [],
   "source": []
  }
 ],
 "metadata": {
  "kernelspec": {
   "display_name": "Python 3",
   "language": "python",
   "name": "python3"
  },
  "language_info": {
   "codemirror_mode": {
    "name": "ipython",
    "version": 3
   },
   "file_extension": ".py",
   "mimetype": "text/x-python",
   "name": "python",
   "nbconvert_exporter": "python",
   "pygments_lexer": "ipython3",
   "version": "3.8.5"
  }
 },
 "nbformat": 4,
 "nbformat_minor": 4
}
